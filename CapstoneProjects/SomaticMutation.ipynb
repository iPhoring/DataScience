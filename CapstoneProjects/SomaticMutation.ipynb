{
 "cells": [
  {
   "cell_type": "markdown",
   "metadata": {},
   "source": [
    "# Capstone 2 – Project Proposal – Somatic Mutation"
   ]
  },
  {
   "cell_type": "markdown",
   "metadata": {},
   "source": [
    "# 1 Objective: \n",
    "\n",
    "The goal is to segment different types of Somatic Germline Mutations in human genes associated with inherited and acquired diseases. It will be a one-stop-shop comprehensive collection of mutation data(Segments) for easy discovery in the era of personalized medicine. As part of this project I would like to find: \n",
    "\n",
    "a.\tSomatic Germline segmentation\n",
    "\n",
    "b.\tAcquired Disease with maximum number of Somatic Mutation \n",
    "\n",
    "c.\tInherited Disease with maximum number of Somatic Mutation\n",
    "\n",
    "### Outcome: Comprehensive Somatic Mutation Database an invaluable resource for all scientists. "
   ]
  },
  {
   "cell_type": "markdown",
   "metadata": {},
   "source": [
    "# 2 Client\n",
    "\n",
    "#### Will be provided by Sona\n",
    "Sample: The client for this project is Georgetown University (www.georgetown.edu ) and the Bioinformatics Department. The purpose is to find an ML model which can be used to correctly cluster somatic mutation."
   ]
  },
  {
   "cell_type": "markdown",
   "metadata": {},
   "source": [
    "# 3 Data source and Credits\n"
   ]
  },
  {
   "cell_type": "markdown",
   "metadata": {},
   "source": [
    "We will provided by Sona."
   ]
  },
  {
   "cell_type": "markdown",
   "metadata": {},
   "source": [
    "# 4. Solution Approach\n",
    "\n",
    "The solution plans to use PCA and NMF ML techniques to help with dimension reduction and segmentation of Somatic Mutation. It is specifically designed to address large dataset with biodiversity and quality issues like redundancy, missing, wrong label etc. The solution is sub-divided into three phases as listed below.\n",
    "\n",
    "\n",
    "\n",
    "\n",
    "\n",
    "### a)Data Assembly - Phase I: \n",
    "This phase of the project is designed to gather and do basic cleanup like join, merge, add or update attributes.\n",
    "\n",
    "### b)Explore and Preprocessing – Phase II: \n",
    "\n",
    "This phase of the project is designed to validate and explore the dataset for all the problems listed in the “Problem” section of this proposal. \n",
    "### c)Modelling and Evaluation Phase III: \n",
    "\n",
    "In this phase of the project will focus on exploring various machine learning algorithms and finding the right hyperparameters to find the best ML model to cluster the Somatic Mutation.  "
   ]
  },
  {
   "cell_type": "markdown",
   "metadata": {},
   "source": [
    "## 4.1 Data Assembly - Phase I:\n",
    "\n",
    "OMIM Data identifier is O\n",
    "\n",
    "UNIPROT data identifier is U\n",
    "\n",
    "COSMIC data identifier is C"
   ]
  },
  {
   "cell_type": "markdown",
   "metadata": {},
   "source": [
    "# 4.1.2 Import Uniprot Data."
   ]
  },
  {
   "cell_type": "code",
   "execution_count": 1,
   "metadata": {},
   "outputs": [
    {
     "data": {
      "text/plain": [
       "(20244, 7)"
      ]
     },
     "execution_count": 1,
     "metadata": {},
     "output_type": "execute_result"
    }
   ],
   "source": [
    "import pandas as pd\n",
    "from google.cloud import storage\n",
    "\n",
    "import datetime as dt\n",
    "from datetime import datetime\n",
    "from pytz import timezone\n",
    "pd.options.display.max_colwidth = 10000\n",
    "import uuid\n",
    "\n",
    "client = storage.Client()\n",
    "bucket=client.get_bucket('somatic_germline_mutations')\n",
    "blob = storage.Blob('uniprot-all-2.tab',bucket)\n",
    "with open('uniprot-all-2.tab', 'wb') as file_obj:\n",
    "    blob.download_to_file(file_obj)\n",
    "\n",
    "df_U=pd.read_csv('uniprot-all-2.tab',sep='\\t', header=0, \\\n",
    "               names=['Entry_U','GeneName','ProteinName_U','Organism_U','Entryname_U', \\\n",
    "                      'NaturalVariant_U','InvolmentInDisease_U'], \\\n",
    "               dtype={'Entry_U':object,'Entryname_U':object,'ProteinName_U':object,'GeneName':object, \\\n",
    "                      'Organism_U':object,'NaturalVariant_U':object,'Mutagenesis_U':object})\n",
    "\n",
    "df_U=df_U[['GeneName','Entry_U','ProteinName_U','Organism_U','Entryname_U','NaturalVariant_U','InvolmentInDisease_U']]\n",
    "df_U.shape"
   ]
  },
  {
   "cell_type": "markdown",
   "metadata": {},
   "source": [
    "### Number of entires in above Uniprot list: 20,244 with 7 columns.\n",
    "We only started with 7 columns so that the uniprot list is managable. "
   ]
  },
  {
   "cell_type": "code",
   "execution_count": 2,
   "metadata": {},
   "outputs": [
    {
     "data": {
      "text/html": [
       "<div>\n",
       "<style>\n",
       "    .dataframe thead tr:only-child th {\n",
       "        text-align: right;\n",
       "    }\n",
       "\n",
       "    .dataframe thead th {\n",
       "        text-align: left;\n",
       "    }\n",
       "\n",
       "    .dataframe tbody tr th {\n",
       "        vertical-align: top;\n",
       "    }\n",
       "</style>\n",
       "<table border=\"1\" class=\"dataframe\">\n",
       "  <thead>\n",
       "    <tr style=\"text-align: right;\">\n",
       "      <th></th>\n",
       "      <th>GeneName</th>\n",
       "      <th>Entry_U</th>\n",
       "      <th>ProteinName_U</th>\n",
       "      <th>Organism_U</th>\n",
       "      <th>Entryname_U</th>\n",
       "      <th>NaturalVariant_U</th>\n",
       "      <th>InvolmentInDisease_U</th>\n",
       "    </tr>\n",
       "  </thead>\n",
       "  <tbody>\n",
       "    <tr>\n",
       "      <th>9640</th>\n",
       "      <td>MED12 ARC240 CAGH45 HOPA KIAA0192 TNRC11 TRAP230</td>\n",
       "      <td>Q93074</td>\n",
       "      <td>Mediator of RNA polymerase II transcription subunit 12 (Activator-recruited cofactor 240 kDa component) (ARC240) (CAG repeat protein 45) (Mediator complex subunit 12) (OPA-containing protein) (Thyroid hormone receptor-associated protein complex 230 kDa component) (Trap230) (Trinucleotide repeat-containing gene 11 protein)</td>\n",
       "      <td>Homo sapiens (Human)</td>\n",
       "      <td>MED12_HUMAN</td>\n",
       "      <td>VARIANT 961 961 R -&gt; W (in OKS; dbSNP:rs80338758). {ECO:0000269|PubMed:17334363}. /FTId=VAR_033112.; VARIANT 1007 1007 N -&gt; S (in LUJFRYS; dbSNP:rs80338759). {ECO:0000269|PubMed:17369503}. /FTId=VAR_037534.; VARIANT 1148 1148 R -&gt; H (in OHDOX; dbSNP:rs387907360). {ECO:0000269|PubMed:23395478}. /FTId=VAR_069770.; VARIANT 1165 1165 S -&gt; P (in OHDOX; dbSNP:rs387907361). {ECO:0000269|PubMed:23395478}. /FTId=VAR_069771.; VARIANT 1392 1392 Q -&gt; R (in dbSNP:rs1139013). {ECO:0000269|PubMed:10198638, ECO:0000269|PubMed:8724849}. /FTId=VAR_046672.; VARIANT 1729 1729 H -&gt; N (in OHDOX; dbSNP:rs387907362). {ECO:0000269|PubMed:23395478}. /FTId=VAR_069772.; VARIANT 1974 1974 Q -&gt; H (found in a family with X-linked intellectual disability; unknown pathological significance; dbSNP:rs879255528). {ECO:0000269|PubMed:26273451}. /FTId=VAR_074018.</td>\n",
       "      <td>DISEASE: Opitz-Kaveggia syndrome (OKS) [MIM:305450]: X-linked disorder characterized by mental retardation, relative macrocephaly, hypotonia and constipation. {ECO:0000269|PubMed:17334363}. Note=The disease is caused by mutations affecting the gene represented in this entry.; DISEASE: Lujan-Fryns syndrome (LUJFRYS) [MIM:309520]: Clinically, Lujan-Fryns syndrome can be distinguished from Opitz-Kaveggia syndrome by tall stature, hypernasal voice, hyperextensible digits and high nasal root. {ECO:0000269|PubMed:17369503}. Note=The disease is caused by mutations affecting the gene represented in this entry.; DISEASE: Ohdo syndrome, X-linked (OHDOX) [MIM:300895]: A syndrome characterized by mental retardation, feeding problems, and distinctive facial appearance with coarse facial features, severe blepharophimosis, ptosis, a bulbous nose, micrognathia and a small mouth. Dental hypoplasia and deafness can be considered as common manifestations of the syndrome. Male patients show cryptorchidism and scrotal hypoplasia. {ECO:0000269|PubMed:23395478}. Note=The disease is caused by mutations affecting the gene represented in this entry.</td>\n",
       "    </tr>\n",
       "  </tbody>\n",
       "</table>\n",
       "</div>"
      ],
      "text/plain": [
       "                                              GeneName Entry_U  \\\n",
       "9640  MED12 ARC240 CAGH45 HOPA KIAA0192 TNRC11 TRAP230  Q93074   \n",
       "\n",
       "                                                                                                                                                                                                                                                                                                                            ProteinName_U  \\\n",
       "9640  Mediator of RNA polymerase II transcription subunit 12 (Activator-recruited cofactor 240 kDa component) (ARC240) (CAG repeat protein 45) (Mediator complex subunit 12) (OPA-containing protein) (Thyroid hormone receptor-associated protein complex 230 kDa component) (Trap230) (Trinucleotide repeat-containing gene 11 protein)   \n",
       "\n",
       "                Organism_U  Entryname_U  \\\n",
       "9640  Homo sapiens (Human)  MED12_HUMAN   \n",
       "\n",
       "                                                                                                                                                                                                                                                                                                                                                                                                                                                                                                                                                                                                                                                                                                                                                                                                                                                           NaturalVariant_U  \\\n",
       "9640  VARIANT 961 961 R -> W (in OKS; dbSNP:rs80338758). {ECO:0000269|PubMed:17334363}. /FTId=VAR_033112.; VARIANT 1007 1007 N -> S (in LUJFRYS; dbSNP:rs80338759). {ECO:0000269|PubMed:17369503}. /FTId=VAR_037534.; VARIANT 1148 1148 R -> H (in OHDOX; dbSNP:rs387907360). {ECO:0000269|PubMed:23395478}. /FTId=VAR_069770.; VARIANT 1165 1165 S -> P (in OHDOX; dbSNP:rs387907361). {ECO:0000269|PubMed:23395478}. /FTId=VAR_069771.; VARIANT 1392 1392 Q -> R (in dbSNP:rs1139013). {ECO:0000269|PubMed:10198638, ECO:0000269|PubMed:8724849}. /FTId=VAR_046672.; VARIANT 1729 1729 H -> N (in OHDOX; dbSNP:rs387907362). {ECO:0000269|PubMed:23395478}. /FTId=VAR_069772.; VARIANT 1974 1974 Q -> H (found in a family with X-linked intellectual disability; unknown pathological significance; dbSNP:rs879255528). {ECO:0000269|PubMed:26273451}. /FTId=VAR_074018.   \n",
       "\n",
       "                                                                                                                                                                                                                                                                                                                                                                                                                                                                                                                                                                                                                                                                                                                                                                                                                                                                                                                                                                                                                                                                                                                                                                       InvolmentInDisease_U  \n",
       "9640  DISEASE: Opitz-Kaveggia syndrome (OKS) [MIM:305450]: X-linked disorder characterized by mental retardation, relative macrocephaly, hypotonia and constipation. {ECO:0000269|PubMed:17334363}. Note=The disease is caused by mutations affecting the gene represented in this entry.; DISEASE: Lujan-Fryns syndrome (LUJFRYS) [MIM:309520]: Clinically, Lujan-Fryns syndrome can be distinguished from Opitz-Kaveggia syndrome by tall stature, hypernasal voice, hyperextensible digits and high nasal root. {ECO:0000269|PubMed:17369503}. Note=The disease is caused by mutations affecting the gene represented in this entry.; DISEASE: Ohdo syndrome, X-linked (OHDOX) [MIM:300895]: A syndrome characterized by mental retardation, feeding problems, and distinctive facial appearance with coarse facial features, severe blepharophimosis, ptosis, a bulbous nose, micrognathia and a small mouth. Dental hypoplasia and deafness can be considered as common manifestations of the syndrome. Male patients show cryptorchidism and scrotal hypoplasia. {ECO:0000269|PubMed:23395478}. Note=The disease is caused by mutations affecting the gene represented in this entry.  "
      ]
     },
     "execution_count": 2,
     "metadata": {},
     "output_type": "execute_result"
    }
   ],
   "source": [
    "df_U[df_U.Entry_U=='Q93074'] #df_U[df_U.GeneName=='MED12']\n",
    "#we can see that GeneName is comprising of more than one names. We are only considering the 1st Name as the GeneName"
   ]
  },
  {
   "cell_type": "markdown",
   "metadata": {},
   "source": [
    "# Observations:\n",
    "\n",
    "1. Multiple Gene Names. we need to consider only the 1st Gene names as the key.\n",
    "2. Natutal Variant: This data also has multiple variants. we need to extract few data points from this text. \n",
    "\n",
    "    a) VARIANT ID\n",
    "    \n",
    "    b) From To\n",
    "    \n",
    "    c) Position \n",
    "    \n",
    "    d) dbSNP\n",
    "    \n",
    "    e) PubMed id\n",
    "3. Involvement in Disease: Multiple disease are staked into this. We need to extract the few data points\n",
    "    \n",
    "    a) Disease name \n",
    "    \n",
    "    b) MIM ID \n",
    "    \n",
    "    c) Pub Med"
   ]
  },
  {
   "cell_type": "code",
   "execution_count": 3,
   "metadata": {},
   "outputs": [
    {
     "data": {
      "text/plain": [
       "(20087, 7)"
      ]
     },
     "execution_count": 3,
     "metadata": {},
     "output_type": "execute_result"
    }
   ],
   "source": [
    "#df_U[df_U.GeneName.isnull()].to_csv('GeneNull.csv') #viewing entries from Uniprot file without a gene name.\n",
    "\n",
    "df_U=df_U[df_U.GeneName.notnull()] #Removing entries from Uniprot file without a gene name.\n",
    "df_U['GeneName']=df_U['GeneName'].apply(lambda x:x.split(' ')[0]) \n",
    "df_U.shape"
   ]
  },
  {
   "cell_type": "markdown",
   "metadata": {},
   "source": [
    "# Number of entires in above Uniprot list: 20,087 with 7 columns."
   ]
  },
  {
   "cell_type": "markdown",
   "metadata": {},
   "source": [
    "### Extracting Natural Variant,dbSNP, Variant Position, PubMed,FromTo,MIM and Disease information"
   ]
  },
  {
   "cell_type": "code",
   "execution_count": 4,
   "metadata": {},
   "outputs": [],
   "source": [
    "df_U_variant=df_U[['Entry_U','NaturalVariant_U']][df_U.NaturalVariant_U.notnull()]\n",
    "df_U_disease=df_U[['Entry_U','InvolmentInDisease_U']][df_U.InvolmentInDisease_U.notnull()]"
   ]
  },
  {
   "cell_type": "code",
   "execution_count": 5,
   "metadata": {},
   "outputs": [],
   "source": [
    "# This function extracts disease information from the involment in disease column.\n",
    "import re\n",
    "lst__D=[]\n",
    "def findDisease(row):\n",
    "    for x in row['InvolmentInDisease_U'].split('.;'):\n",
    "        #print(x)\n",
    "        #print('++++++++++++++++++++++')\n",
    "        PubMed=''\n",
    "        mim_=''\n",
    "        disease_=''\n",
    "        \n",
    "        aa=[]\n",
    "        search_pattern='(?s)DISEASE:(.*?)(?=\\[)'\n",
    "        aa=re.findall(search_pattern,x)            \n",
    "        if len(aa)!=0:\n",
    "            disease_=aa[0].strip()\n",
    "        else:\n",
    "            #DISEASE: Note=Defects in ATM contribute to B-cell non-Hodgkin lymphomas (BNHL), \n",
    "            #including mantle cell lymphoma (MCL).\n",
    "            #DISEASE: Note=A chromosomal aberration involving BRAF is found in pilocytic astrocytomas. \n",
    "            #A tandem duplication of 2 Mb at 7q34 leads to the expression of a KIAA1549-BRAF fusion protein with a \n",
    "            #constitutive kinase activity and inducing cell transformation. {ECO:0000269|PubMed:18974108}\n",
    "                \n",
    "            search_pattern='(?:^|\\W\\()[A-Z]*(?:$|\\))'\n",
    "            aa=re.findall(search_pattern,x)\n",
    "            disease_=' &'.join(aa).strip().replace('(','').replace(')','')\n",
    "            \n",
    "        aa=[]\n",
    "        search_pattern=\"(?s)MIM:(.*?)(?=])\"\n",
    "        aa=re.findall(search_pattern,x)            \n",
    "        if len(aa)!=0:\n",
    "            mim_=aa[0]\n",
    "            \n",
    "        aa=[]\n",
    "        search_pattern='(?s){(.*?)(?=})'\n",
    "        aa=re.findall(search_pattern,x)            \n",
    "        if len(aa)!=0:\n",
    "            for i in aa[0].split(','):\n",
    "                PubMed=''\n",
    "                yy=[]\n",
    "                if '|' in i:                    \n",
    "                    #print(row['Entry_U'],i,i.split('|')[1][7:])\n",
    "                    PubMed=i.split('|')[1][7:]\n",
    "                    if (len(PubMed)!=0) and (len(disease_)==0): #handling boundary cases                                                 \n",
    "                        search_pattern='(?s)Note=(.*?)(?=\\.)'\n",
    "                        note1=re.findall(search_pattern,x)                                  \n",
    "                        if len(note1)!=0:\n",
    "                            search_pattern='[A-Z]{3,}'\n",
    "                            yy=re.findall(search_pattern,note1[0])\n",
    "                            disease_=','.join(yy).strip()\n",
    "                        \n",
    "                    lst__D.append([row['Entry_U'],disease_,mim_,PubMed])\n",
    "                else:\n",
    "                    PubMed=i\n",
    "                    lst__D.append([row['Entry_U'],disease_,mim_,PubMed])                    \n",
    "    return(1)"
   ]
  },
  {
   "cell_type": "code",
   "execution_count": 6,
   "metadata": {
    "collapsed": true
   },
   "outputs": [],
   "source": [
    "#this function extracts variant information from Natural Variant column\n",
    "import re\n",
    "lst__V=[]\n",
    "def findVariant(row):        \n",
    "    for x in row['NaturalVariant_U'].split('.;'):\n",
    "        dbSNP=''\n",
    "        FromTo=''\n",
    "        Variant=''\n",
    "        PubMed=''\n",
    "        aa=[]\n",
    "        part1=''\n",
    "        part2=''\n",
    "        part1=x.strip().split('/')[0].strip()\n",
    "        if len(x.strip().split('/'))==2:\n",
    "            part2=x.strip().split('/')[1][5:].replace('.','')\n",
    "        \n",
    "        search_pattern='(?s)dbSNP:(.*?)(?=\\).)'\n",
    "        aa=re.findall(search_pattern,part1)            \n",
    "        if len(aa)!=0:\n",
    "            dbSNP=aa[0]\n",
    "        \n",
    "        aa=[]\n",
    "        search_pattern='(?s)VARIANT(.*?)(?=\\()'\n",
    "        aa=re.findall(search_pattern,part1)            \n",
    "        if len(aa)!=0:\n",
    "            if len(aa[0].strip().split(' '))==5:                \n",
    "                FromTo=aa[0].strip().split(' ')[0]+'-'+aa[0].strip().split(' ')[1]\n",
    "                Variant=aa[0].strip().split(' ')[2]+aa[0].strip().split(' ')[3]+aa[0].strip().split(' ')[4]\n",
    "                #print(FromTo,Variant)\n",
    "            else:\n",
    "                FromTo=aa[0].strip().split(' ')[0]+'-'+aa[0].strip().split(' ')[1]\n",
    "                Variant=aa[0].strip().split(' ')[2] #Missing variant information??\n",
    "                            \n",
    "        search_pattern='(?s){(.*?)(?=})'\n",
    "        aa=re.findall(search_pattern,part1)            \n",
    "        if len(aa)!=0:\n",
    "            PubMed=[]\n",
    "            for i in aa[0].split(','):                \n",
    "                if '|' in i:\n",
    "                    i.split('|')[1]                    \n",
    "                    PubMed.append(i.split('|')[1][7:])\n",
    "                else:\n",
    "                    PubMed.append(i)\n",
    "                    \n",
    "            lst__V.append([row['Entry_U'],part1,part2,'Uniprot',dbSNP,FromTo,Variant,','.join(PubMed)])\n",
    "            \n",
    "    return (1)"
   ]
  },
  {
   "cell_type": "code",
   "execution_count": 7,
   "metadata": {},
   "outputs": [],
   "source": [
    "#appling the functions\n",
    "_=df_U_variant.apply(lambda row: findVariant(row),axis=1)\n",
    "_=df_U_disease.apply(lambda row: findDisease(row),axis=1)"
   ]
  },
  {
   "cell_type": "code",
   "execution_count": 8,
   "metadata": {
    "collapsed": true
   },
   "outputs": [],
   "source": [
    "#cpnverting the list object to dataframe\n",
    "_df_V = pd.DataFrame(data=lst__V,columns=['Entry_U','Variant_U','VariantID_U','VariantSource','dbSNP_U', \\\n",
    "                                        'FromTo_U','VariantPos_U','PubMed_U'])\n",
    "_df_D = pd.DataFrame(data=lst__D,columns=['Entry_U','Disease_U','MIM_U','PubMed_U'])"
   ]
  },
  {
   "cell_type": "markdown",
   "metadata": {},
   "source": [
    "### cheat sheets for checking data"
   ]
  },
  {
   "cell_type": "code",
   "execution_count": null,
   "metadata": {},
   "outputs": [],
   "source": [
    "_df_V[_df_V.Entry_U=='Q93074']\n",
    "df_U_disease[df_U_disease.Entry_U=='Q03164']\n",
    "#df_U_disease[df_U_disease.InvolmentInDisease_U.isnull()]\n",
    "#df_U_disease[df_U_disease.Entry_U=='P15056']\n",
    "#__=df_U_disease[df_U_disease.Entry_U=='P15056'].apply(lambda row: findDisease(row),axis=1)\n",
    "#lst__D\n",
    "#_df_D[_df_D.Entry_U=='Q9UKU0']\n",
    "#_df_D[_df_D.duplicated(keep=False)]  #checking duplicate records"
   ]
  },
  {
   "cell_type": "markdown",
   "metadata": {},
   "source": [
    "## Removing all duplicate rows from Disease"
   ]
  },
  {
   "cell_type": "code",
   "execution_count": 9,
   "metadata": {},
   "outputs": [],
   "source": [
    "_df_D_Final=_df_D.drop_duplicates(keep=False)"
   ]
  },
  {
   "cell_type": "code",
   "execution_count": 11,
   "metadata": {},
   "outputs": [
    {
     "data": {
      "text/html": [
       "<div>\n",
       "<style>\n",
       "    .dataframe thead tr:only-child th {\n",
       "        text-align: right;\n",
       "    }\n",
       "\n",
       "    .dataframe thead th {\n",
       "        text-align: left;\n",
       "    }\n",
       "\n",
       "    .dataframe tbody tr th {\n",
       "        vertical-align: top;\n",
       "    }\n",
       "</style>\n",
       "<table border=\"1\" class=\"dataframe\">\n",
       "  <thead>\n",
       "    <tr style=\"text-align: right;\">\n",
       "      <th></th>\n",
       "      <th>Entry_U</th>\n",
       "      <th>Disease_U</th>\n",
       "      <th>MIM_U</th>\n",
       "      <th>PubMed_U</th>\n",
       "    </tr>\n",
       "  </thead>\n",
       "  <tbody>\n",
       "  </tbody>\n",
       "</table>\n",
       "</div>"
      ],
      "text/plain": [
       "Empty DataFrame\n",
       "Columns: [Entry_U, Disease_U, MIM_U, PubMed_U]\n",
       "Index: []"
      ]
     },
     "execution_count": 11,
     "metadata": {},
     "output_type": "execute_result"
    }
   ],
   "source": [
    "# checking if we have any duplicate data\n",
    "_df_D_Final[_df_D_Final.duplicated(keep=False)]"
   ]
  },
  {
   "cell_type": "code",
   "execution_count": 12,
   "metadata": {},
   "outputs": [
    {
     "name": "stdout",
     "output_type": "stream",
     "text": [
      "(54697, 8) (17770, 4)\n"
     ]
    }
   ],
   "source": [
    "print(_df_V.shape,_df_D_Final.shape)"
   ]
  },
  {
   "cell_type": "code",
   "execution_count": 13,
   "metadata": {},
   "outputs": [
    {
     "data": {
      "text/plain": [
       "(57852, 10)"
      ]
     },
     "execution_count": 13,
     "metadata": {},
     "output_type": "execute_result"
    }
   ],
   "source": [
    "_df_VD=pd.merge(_df_V,_df_D_Final,how='left', on=['Entry_U','PubMed_U'])\n",
    "_df_VD.shape"
   ]
  },
  {
   "cell_type": "code",
   "execution_count": 14,
   "metadata": {},
   "outputs": [
    {
     "data": {
      "text/html": [
       "<div>\n",
       "<style>\n",
       "    .dataframe thead tr:only-child th {\n",
       "        text-align: right;\n",
       "    }\n",
       "\n",
       "    .dataframe thead th {\n",
       "        text-align: left;\n",
       "    }\n",
       "\n",
       "    .dataframe tbody tr th {\n",
       "        vertical-align: top;\n",
       "    }\n",
       "</style>\n",
       "<table border=\"1\" class=\"dataframe\">\n",
       "  <thead>\n",
       "    <tr style=\"text-align: right;\">\n",
       "      <th></th>\n",
       "      <th>Entry_U</th>\n",
       "      <th>Variant_U</th>\n",
       "      <th>VariantID_U</th>\n",
       "      <th>VariantSource</th>\n",
       "      <th>dbSNP_U</th>\n",
       "      <th>FromTo_U</th>\n",
       "      <th>VariantPos_U</th>\n",
       "      <th>PubMed_U</th>\n",
       "      <th>Disease_U</th>\n",
       "      <th>MIM_U</th>\n",
       "    </tr>\n",
       "  </thead>\n",
       "  <tbody>\n",
       "    <tr>\n",
       "      <th>30604</th>\n",
       "      <td>Q93074</td>\n",
       "      <td>VARIANT 961 961 R -&gt; W (in OKS; dbSNP:rs80338758). {ECO:0000269|PubMed:17334363}.</td>\n",
       "      <td>VAR_033112</td>\n",
       "      <td>Uniprot</td>\n",
       "      <td>rs80338758</td>\n",
       "      <td>961-961</td>\n",
       "      <td>R-&gt;W</td>\n",
       "      <td>17334363</td>\n",
       "      <td>Opitz-Kaveggia syndrome (OKS)</td>\n",
       "      <td>305450</td>\n",
       "    </tr>\n",
       "    <tr>\n",
       "      <th>30605</th>\n",
       "      <td>Q93074</td>\n",
       "      <td>VARIANT 1007 1007 N -&gt; S (in LUJFRYS; dbSNP:rs80338759). {ECO:0000269|PubMed:17369503}.</td>\n",
       "      <td>VAR_037534</td>\n",
       "      <td>Uniprot</td>\n",
       "      <td>rs80338759</td>\n",
       "      <td>1007-1007</td>\n",
       "      <td>N-&gt;S</td>\n",
       "      <td>17369503</td>\n",
       "      <td>Lujan-Fryns syndrome (LUJFRYS)</td>\n",
       "      <td>309520</td>\n",
       "    </tr>\n",
       "    <tr>\n",
       "      <th>30606</th>\n",
       "      <td>Q93074</td>\n",
       "      <td>VARIANT 1148 1148 R -&gt; H (in OHDOX; dbSNP:rs387907360). {ECO:0000269|PubMed:23395478}.</td>\n",
       "      <td>VAR_069770</td>\n",
       "      <td>Uniprot</td>\n",
       "      <td>rs387907360</td>\n",
       "      <td>1148-1148</td>\n",
       "      <td>R-&gt;H</td>\n",
       "      <td>23395478</td>\n",
       "      <td>Ohdo syndrome, X-linked (OHDOX)</td>\n",
       "      <td>300895</td>\n",
       "    </tr>\n",
       "    <tr>\n",
       "      <th>30607</th>\n",
       "      <td>Q93074</td>\n",
       "      <td>VARIANT 1165 1165 S -&gt; P (in OHDOX; dbSNP:rs387907361). {ECO:0000269|PubMed:23395478}.</td>\n",
       "      <td>VAR_069771</td>\n",
       "      <td>Uniprot</td>\n",
       "      <td>rs387907361</td>\n",
       "      <td>1165-1165</td>\n",
       "      <td>S-&gt;P</td>\n",
       "      <td>23395478</td>\n",
       "      <td>Ohdo syndrome, X-linked (OHDOX)</td>\n",
       "      <td>300895</td>\n",
       "    </tr>\n",
       "    <tr>\n",
       "      <th>30608</th>\n",
       "      <td>Q93074</td>\n",
       "      <td>VARIANT 1392 1392 Q -&gt; R (in dbSNP:rs1139013). {ECO:0000269|PubMed:10198638, ECO:0000269|PubMed:8724849}.</td>\n",
       "      <td>VAR_046672</td>\n",
       "      <td>Uniprot</td>\n",
       "      <td>rs1139013</td>\n",
       "      <td>1392-1392</td>\n",
       "      <td>Q-&gt;R</td>\n",
       "      <td>10198638,8724849</td>\n",
       "      <td>NaN</td>\n",
       "      <td>NaN</td>\n",
       "    </tr>\n",
       "    <tr>\n",
       "      <th>30609</th>\n",
       "      <td>Q93074</td>\n",
       "      <td>VARIANT 1729 1729 H -&gt; N (in OHDOX; dbSNP:rs387907362). {ECO:0000269|PubMed:23395478}.</td>\n",
       "      <td>VAR_069772</td>\n",
       "      <td>Uniprot</td>\n",
       "      <td>rs387907362</td>\n",
       "      <td>1729-1729</td>\n",
       "      <td>H-&gt;N</td>\n",
       "      <td>23395478</td>\n",
       "      <td>Ohdo syndrome, X-linked (OHDOX)</td>\n",
       "      <td>300895</td>\n",
       "    </tr>\n",
       "    <tr>\n",
       "      <th>30610</th>\n",
       "      <td>Q93074</td>\n",
       "      <td>VARIANT 1974 1974 Q -&gt; H (found in a family with X-linked intellectual disability; unknown pathological significance; dbSNP:rs879255528). {ECO:0000269|PubMed:26273451}.</td>\n",
       "      <td>VAR_074018</td>\n",
       "      <td>Uniprot</td>\n",
       "      <td>rs879255528</td>\n",
       "      <td>1974-1974</td>\n",
       "      <td>Q-&gt;H</td>\n",
       "      <td>26273451</td>\n",
       "      <td>NaN</td>\n",
       "      <td>NaN</td>\n",
       "    </tr>\n",
       "  </tbody>\n",
       "</table>\n",
       "</div>"
      ],
      "text/plain": [
       "      Entry_U  \\\n",
       "30604  Q93074   \n",
       "30605  Q93074   \n",
       "30606  Q93074   \n",
       "30607  Q93074   \n",
       "30608  Q93074   \n",
       "30609  Q93074   \n",
       "30610  Q93074   \n",
       "\n",
       "                                                                                                                                                                      Variant_U  \\\n",
       "30604                                                                                         VARIANT 961 961 R -> W (in OKS; dbSNP:rs80338758). {ECO:0000269|PubMed:17334363}.   \n",
       "30605                                                                                   VARIANT 1007 1007 N -> S (in LUJFRYS; dbSNP:rs80338759). {ECO:0000269|PubMed:17369503}.   \n",
       "30606                                                                                    VARIANT 1148 1148 R -> H (in OHDOX; dbSNP:rs387907360). {ECO:0000269|PubMed:23395478}.   \n",
       "30607                                                                                    VARIANT 1165 1165 S -> P (in OHDOX; dbSNP:rs387907361). {ECO:0000269|PubMed:23395478}.   \n",
       "30608                                                                 VARIANT 1392 1392 Q -> R (in dbSNP:rs1139013). {ECO:0000269|PubMed:10198638, ECO:0000269|PubMed:8724849}.   \n",
       "30609                                                                                    VARIANT 1729 1729 H -> N (in OHDOX; dbSNP:rs387907362). {ECO:0000269|PubMed:23395478}.   \n",
       "30610  VARIANT 1974 1974 Q -> H (found in a family with X-linked intellectual disability; unknown pathological significance; dbSNP:rs879255528). {ECO:0000269|PubMed:26273451}.   \n",
       "\n",
       "      VariantID_U VariantSource      dbSNP_U   FromTo_U VariantPos_U  \\\n",
       "30604  VAR_033112       Uniprot   rs80338758    961-961         R->W   \n",
       "30605  VAR_037534       Uniprot   rs80338759  1007-1007         N->S   \n",
       "30606  VAR_069770       Uniprot  rs387907360  1148-1148         R->H   \n",
       "30607  VAR_069771       Uniprot  rs387907361  1165-1165         S->P   \n",
       "30608  VAR_046672       Uniprot    rs1139013  1392-1392         Q->R   \n",
       "30609  VAR_069772       Uniprot  rs387907362  1729-1729         H->N   \n",
       "30610  VAR_074018       Uniprot  rs879255528  1974-1974         Q->H   \n",
       "\n",
       "               PubMed_U                        Disease_U   MIM_U  \n",
       "30604          17334363    Opitz-Kaveggia syndrome (OKS)  305450  \n",
       "30605          17369503   Lujan-Fryns syndrome (LUJFRYS)  309520  \n",
       "30606          23395478  Ohdo syndrome, X-linked (OHDOX)  300895  \n",
       "30607          23395478  Ohdo syndrome, X-linked (OHDOX)  300895  \n",
       "30608  10198638,8724849                              NaN     NaN  \n",
       "30609          23395478  Ohdo syndrome, X-linked (OHDOX)  300895  \n",
       "30610          26273451                              NaN     NaN  "
      ]
     },
     "execution_count": 14,
     "metadata": {},
     "output_type": "execute_result"
    }
   ],
   "source": [
    "_df_VD[_df_VD.Entry_U=='Q93074']"
   ]
  },
  {
   "cell_type": "code",
   "execution_count": 16,
   "metadata": {},
   "outputs": [],
   "source": [
    "df_U_mod=df_U[['GeneName','Entry_U','ProteinName_U','Organism_U','Entryname_U']] #[df_U.Entry_U=='Q93074']"
   ]
  },
  {
   "cell_type": "code",
   "execution_count": 17,
   "metadata": {},
   "outputs": [
    {
     "data": {
      "text/plain": [
       "(57852, 14)"
      ]
     },
     "execution_count": 17,
     "metadata": {},
     "output_type": "execute_result"
    }
   ],
   "source": [
    "df_merged_U=pd.merge(_df_VD,df_U_mod,how='left', on=['Entry_U'])\n",
    "df_merged_U.shape"
   ]
  },
  {
   "cell_type": "code",
   "execution_count": 18,
   "metadata": {},
   "outputs": [
    {
     "data": {
      "text/html": [
       "<div>\n",
       "<style>\n",
       "    .dataframe thead tr:only-child th {\n",
       "        text-align: right;\n",
       "    }\n",
       "\n",
       "    .dataframe thead th {\n",
       "        text-align: left;\n",
       "    }\n",
       "\n",
       "    .dataframe tbody tr th {\n",
       "        vertical-align: top;\n",
       "    }\n",
       "</style>\n",
       "<table border=\"1\" class=\"dataframe\">\n",
       "  <thead>\n",
       "    <tr style=\"text-align: right;\">\n",
       "      <th></th>\n",
       "      <th>Entry_U</th>\n",
       "      <th>Variant_U</th>\n",
       "      <th>VariantID_U</th>\n",
       "      <th>VariantSource</th>\n",
       "      <th>dbSNP_U</th>\n",
       "      <th>FromTo_U</th>\n",
       "      <th>VariantPos_U</th>\n",
       "      <th>PubMed_U</th>\n",
       "      <th>Disease_U</th>\n",
       "      <th>MIM_U</th>\n",
       "      <th>GeneName</th>\n",
       "      <th>ProteinName_U</th>\n",
       "      <th>Organism_U</th>\n",
       "      <th>Entryname_U</th>\n",
       "    </tr>\n",
       "  </thead>\n",
       "  <tbody>\n",
       "    <tr>\n",
       "      <th>43460</th>\n",
       "      <td>P0CW18</td>\n",
       "      <td>VARIANT 176 176 R -&gt; G (in MCOP6; dbSNP:rs387907096). {ECO:0000269|PubMed:21397065}.</td>\n",
       "      <td>VAR_065076</td>\n",
       "      <td>Uniprot</td>\n",
       "      <td>rs387907096</td>\n",
       "      <td>176-176</td>\n",
       "      <td>R-&gt;G</td>\n",
       "      <td>21397065</td>\n",
       "      <td>Microphthalmia, isolated, 6 (MCOP6)</td>\n",
       "      <td>613517</td>\n",
       "      <td>PRSS56</td>\n",
       "      <td>Serine protease 56 (EC 3.4.21.-)</td>\n",
       "      <td>Homo sapiens (Human)</td>\n",
       "      <td>PRS56_HUMAN</td>\n",
       "    </tr>\n",
       "    <tr>\n",
       "      <th>43461</th>\n",
       "      <td>P0CW18</td>\n",
       "      <td>VARIANT 237 237 G -&gt; R (in MCOP6; dbSNP:rs730882160). {ECO:0000269|PubMed:21850159}.</td>\n",
       "      <td>VAR_069226</td>\n",
       "      <td>Uniprot</td>\n",
       "      <td>rs730882160</td>\n",
       "      <td>237-237</td>\n",
       "      <td>G-&gt;R</td>\n",
       "      <td>21850159</td>\n",
       "      <td>Microphthalmia, isolated, 6 (MCOP6)</td>\n",
       "      <td>613517</td>\n",
       "      <td>PRSS56</td>\n",
       "      <td>Serine protease 56 (EC 3.4.21.-)</td>\n",
       "      <td>Homo sapiens (Human)</td>\n",
       "      <td>PRS56_HUMAN</td>\n",
       "    </tr>\n",
       "    <tr>\n",
       "      <th>43462</th>\n",
       "      <td>P0CW18</td>\n",
       "      <td>VARIANT 302 302 V -&gt; F (in MCOP6; dbSNP:rs74703359). {ECO:0000269|PubMed:21850159}.</td>\n",
       "      <td>VAR_069227</td>\n",
       "      <td>Uniprot</td>\n",
       "      <td>rs74703359</td>\n",
       "      <td>302-302</td>\n",
       "      <td>V-&gt;F</td>\n",
       "      <td>21850159</td>\n",
       "      <td>Microphthalmia, isolated, 6 (MCOP6)</td>\n",
       "      <td>613517</td>\n",
       "      <td>PRSS56</td>\n",
       "      <td>Serine protease 56 (EC 3.4.21.-)</td>\n",
       "      <td>Homo sapiens (Human)</td>\n",
       "      <td>PRS56_HUMAN</td>\n",
       "    </tr>\n",
       "    <tr>\n",
       "      <th>43463</th>\n",
       "      <td>P0CW18</td>\n",
       "      <td>VARIANT 309 309 W -&gt; S (in MCOP6; dbSNP:rs387907095). {ECO:0000269|PubMed:21397065}.</td>\n",
       "      <td>VAR_065077</td>\n",
       "      <td>Uniprot</td>\n",
       "      <td>rs387907095</td>\n",
       "      <td>309-309</td>\n",
       "      <td>W-&gt;S</td>\n",
       "      <td>21397065</td>\n",
       "      <td>Microphthalmia, isolated, 6 (MCOP6)</td>\n",
       "      <td>613517</td>\n",
       "      <td>PRSS56</td>\n",
       "      <td>Serine protease 56 (EC 3.4.21.-)</td>\n",
       "      <td>Homo sapiens (Human)</td>\n",
       "      <td>PRS56_HUMAN</td>\n",
       "    </tr>\n",
       "    <tr>\n",
       "      <th>43464</th>\n",
       "      <td>P0CW18</td>\n",
       "      <td>VARIANT 320 320 G -&gt; R (in MCOP6; dbSNP:rs730882158). {ECO:0000269|PubMed:21850159}.</td>\n",
       "      <td>VAR_069228</td>\n",
       "      <td>Uniprot</td>\n",
       "      <td>rs730882158</td>\n",
       "      <td>320-320</td>\n",
       "      <td>G-&gt;R</td>\n",
       "      <td>21850159</td>\n",
       "      <td>Microphthalmia, isolated, 6 (MCOP6)</td>\n",
       "      <td>613517</td>\n",
       "      <td>PRSS56</td>\n",
       "      <td>Serine protease 56 (EC 3.4.21.-)</td>\n",
       "      <td>Homo sapiens (Human)</td>\n",
       "      <td>PRS56_HUMAN</td>\n",
       "    </tr>\n",
       "    <tr>\n",
       "      <th>43465</th>\n",
       "      <td>P0CW18</td>\n",
       "      <td>VARIANT 395 395 C -&gt; R (in MCOP6; dbSNP:rs730882161). {ECO:0000269|PubMed:21850159}.</td>\n",
       "      <td>VAR_069229</td>\n",
       "      <td>Uniprot</td>\n",
       "      <td>rs730882161</td>\n",
       "      <td>395-395</td>\n",
       "      <td>C-&gt;R</td>\n",
       "      <td>21850159</td>\n",
       "      <td>Microphthalmia, isolated, 6 (MCOP6)</td>\n",
       "      <td>613517</td>\n",
       "      <td>PRSS56</td>\n",
       "      <td>Serine protease 56 (EC 3.4.21.-)</td>\n",
       "      <td>Homo sapiens (Human)</td>\n",
       "      <td>PRS56_HUMAN</td>\n",
       "    </tr>\n",
       "    <tr>\n",
       "      <th>43466</th>\n",
       "      <td>P0CW18</td>\n",
       "      <td>VARIANT 599 599 P -&gt; A (in MCOP6; dbSNP:rs61744404). {ECO:0000269|PubMed:21532570}.</td>\n",
       "      <td>VAR_069230</td>\n",
       "      <td>Uniprot</td>\n",
       "      <td>rs61744404</td>\n",
       "      <td>599-599</td>\n",
       "      <td>P-&gt;A</td>\n",
       "      <td>21532570</td>\n",
       "      <td>Microphthalmia, isolated, 6 (MCOP6)</td>\n",
       "      <td>613517</td>\n",
       "      <td>PRSS56</td>\n",
       "      <td>Serine protease 56 (EC 3.4.21.-)</td>\n",
       "      <td>Homo sapiens (Human)</td>\n",
       "      <td>PRS56_HUMAN</td>\n",
       "    </tr>\n",
       "  </tbody>\n",
       "</table>\n",
       "</div>"
      ],
      "text/plain": [
       "      Entry_U  \\\n",
       "43460  P0CW18   \n",
       "43461  P0CW18   \n",
       "43462  P0CW18   \n",
       "43463  P0CW18   \n",
       "43464  P0CW18   \n",
       "43465  P0CW18   \n",
       "43466  P0CW18   \n",
       "\n",
       "                                                                                  Variant_U  \\\n",
       "43460  VARIANT 176 176 R -> G (in MCOP6; dbSNP:rs387907096). {ECO:0000269|PubMed:21397065}.   \n",
       "43461  VARIANT 237 237 G -> R (in MCOP6; dbSNP:rs730882160). {ECO:0000269|PubMed:21850159}.   \n",
       "43462   VARIANT 302 302 V -> F (in MCOP6; dbSNP:rs74703359). {ECO:0000269|PubMed:21850159}.   \n",
       "43463  VARIANT 309 309 W -> S (in MCOP6; dbSNP:rs387907095). {ECO:0000269|PubMed:21397065}.   \n",
       "43464  VARIANT 320 320 G -> R (in MCOP6; dbSNP:rs730882158). {ECO:0000269|PubMed:21850159}.   \n",
       "43465  VARIANT 395 395 C -> R (in MCOP6; dbSNP:rs730882161). {ECO:0000269|PubMed:21850159}.   \n",
       "43466   VARIANT 599 599 P -> A (in MCOP6; dbSNP:rs61744404). {ECO:0000269|PubMed:21532570}.   \n",
       "\n",
       "      VariantID_U VariantSource      dbSNP_U FromTo_U VariantPos_U  PubMed_U  \\\n",
       "43460  VAR_065076       Uniprot  rs387907096  176-176         R->G  21397065   \n",
       "43461  VAR_069226       Uniprot  rs730882160  237-237         G->R  21850159   \n",
       "43462  VAR_069227       Uniprot   rs74703359  302-302         V->F  21850159   \n",
       "43463  VAR_065077       Uniprot  rs387907095  309-309         W->S  21397065   \n",
       "43464  VAR_069228       Uniprot  rs730882158  320-320         G->R  21850159   \n",
       "43465  VAR_069229       Uniprot  rs730882161  395-395         C->R  21850159   \n",
       "43466  VAR_069230       Uniprot   rs61744404  599-599         P->A  21532570   \n",
       "\n",
       "                                 Disease_U   MIM_U GeneName  \\\n",
       "43460  Microphthalmia, isolated, 6 (MCOP6)  613517   PRSS56   \n",
       "43461  Microphthalmia, isolated, 6 (MCOP6)  613517   PRSS56   \n",
       "43462  Microphthalmia, isolated, 6 (MCOP6)  613517   PRSS56   \n",
       "43463  Microphthalmia, isolated, 6 (MCOP6)  613517   PRSS56   \n",
       "43464  Microphthalmia, isolated, 6 (MCOP6)  613517   PRSS56   \n",
       "43465  Microphthalmia, isolated, 6 (MCOP6)  613517   PRSS56   \n",
       "43466  Microphthalmia, isolated, 6 (MCOP6)  613517   PRSS56   \n",
       "\n",
       "                          ProteinName_U            Organism_U  Entryname_U  \n",
       "43460  Serine protease 56 (EC 3.4.21.-)  Homo sapiens (Human)  PRS56_HUMAN  \n",
       "43461  Serine protease 56 (EC 3.4.21.-)  Homo sapiens (Human)  PRS56_HUMAN  \n",
       "43462  Serine protease 56 (EC 3.4.21.-)  Homo sapiens (Human)  PRS56_HUMAN  \n",
       "43463  Serine protease 56 (EC 3.4.21.-)  Homo sapiens (Human)  PRS56_HUMAN  \n",
       "43464  Serine protease 56 (EC 3.4.21.-)  Homo sapiens (Human)  PRS56_HUMAN  \n",
       "43465  Serine protease 56 (EC 3.4.21.-)  Homo sapiens (Human)  PRS56_HUMAN  \n",
       "43466  Serine protease 56 (EC 3.4.21.-)  Homo sapiens (Human)  PRS56_HUMAN  "
      ]
     },
     "execution_count": 18,
     "metadata": {},
     "output_type": "execute_result"
    }
   ],
   "source": [
    "df_merged_U[df_merged_U.Entry_U=='P0CW18']"
   ]
  },
  {
   "cell_type": "markdown",
   "metadata": {},
   "source": [
    "### Number of entires in above Uniprot list after removing entries without gene name: 80,040 with 13 columns."
   ]
  },
  {
   "cell_type": "markdown",
   "metadata": {},
   "source": [
    "# 4.1.3 Import OMIM"
   ]
  },
  {
   "cell_type": "code",
   "execution_count": 19,
   "metadata": {
    "collapsed": true
   },
   "outputs": [],
   "source": [
    "blob = storage.Blob('uniprot-yourlist3AM20180120A7434721E10EE6586998A056CCD0537E3100E40.tab',bucket)\n",
    "with open('uniprot-yourlist3AM20180120A7434721E10EE6586998A056CCD0537E3100E40.tab', 'wb') as file_obj:\n",
    "    blob.download_to_file(file_obj)\n",
    "df_O_X=pd.read_csv('uniprot-yourlist3AM20180120A7434721E10EE6586998A056CCD0537E3100E40.tab',sep='\\t', \\\n",
    "                   skiprows=1,header=None,)\n",
    "                #names=['MIMNumber_O','MIMEntryType_O','EntrezGeneID_NCBI_O','GeneName','EnsemblGeneID_O'])"
   ]
  },
  {
   "cell_type": "code",
   "execution_count": 20,
   "metadata": {
    "collapsed": true
   },
   "outputs": [],
   "source": [
    "df_O_X.columns=['MIMNumber_O', 1, 'Entry_U', 3, 4, 5, 'GeneName', 7, 8, 9]"
   ]
  },
  {
   "cell_type": "code",
   "execution_count": 21,
   "metadata": {},
   "outputs": [
    {
     "data": {
      "text/html": [
       "<div>\n",
       "<style>\n",
       "    .dataframe thead tr:only-child th {\n",
       "        text-align: right;\n",
       "    }\n",
       "\n",
       "    .dataframe thead th {\n",
       "        text-align: left;\n",
       "    }\n",
       "\n",
       "    .dataframe tbody tr th {\n",
       "        vertical-align: top;\n",
       "    }\n",
       "</style>\n",
       "<table border=\"1\" class=\"dataframe\">\n",
       "  <thead>\n",
       "    <tr style=\"text-align: right;\">\n",
       "      <th></th>\n",
       "      <th>MIMNumber_O</th>\n",
       "      <th>1</th>\n",
       "      <th>Entry_U</th>\n",
       "      <th>3</th>\n",
       "      <th>4</th>\n",
       "      <th>5</th>\n",
       "      <th>GeneName</th>\n",
       "      <th>7</th>\n",
       "      <th>8</th>\n",
       "      <th>9</th>\n",
       "    </tr>\n",
       "  </thead>\n",
       "  <tbody>\n",
       "    <tr>\n",
       "      <th>11974</th>\n",
       "      <td>613517,613858</td>\n",
       "      <td>,</td>\n",
       "      <td>P0CW18</td>\n",
       "      <td>PRS56_HUMAN</td>\n",
       "      <td>reviewed</td>\n",
       "      <td>Serine protease 56 (EC 3.4.21.-)</td>\n",
       "      <td>PRSS56</td>\n",
       "      <td>Homo sapiens (Human)</td>\n",
       "      <td>603</td>\n",
       "      <td>613517;613858;</td>\n",
       "    </tr>\n",
       "  </tbody>\n",
       "</table>\n",
       "</div>"
      ],
      "text/plain": [
       "         MIMNumber_O  1 Entry_U            3         4  \\\n",
       "11974  613517,613858  ,  P0CW18  PRS56_HUMAN  reviewed   \n",
       "\n",
       "                                      5 GeneName                     7    8  \\\n",
       "11974  Serine protease 56 (EC 3.4.21.-)   PRSS56  Homo sapiens (Human)  603   \n",
       "\n",
       "                    9  \n",
       "11974  613517;613858;  "
      ]
     },
     "execution_count": 21,
     "metadata": {},
     "output_type": "execute_result"
    }
   ],
   "source": [
    "df_O_X[df_O_X.GeneName=='PRSS56']"
   ]
  },
  {
   "cell_type": "code",
   "execution_count": 22,
   "metadata": {
    "collapsed": true
   },
   "outputs": [],
   "source": [
    "df_O=df_O_X[['MIMNumber_O','Entry_U','GeneName']].copy()"
   ]
  },
  {
   "cell_type": "code",
   "execution_count": 23,
   "metadata": {},
   "outputs": [
    {
     "data": {
      "text/html": [
       "<div>\n",
       "<style>\n",
       "    .dataframe thead tr:only-child th {\n",
       "        text-align: right;\n",
       "    }\n",
       "\n",
       "    .dataframe thead th {\n",
       "        text-align: left;\n",
       "    }\n",
       "\n",
       "    .dataframe tbody tr th {\n",
       "        vertical-align: top;\n",
       "    }\n",
       "</style>\n",
       "<table border=\"1\" class=\"dataframe\">\n",
       "  <thead>\n",
       "    <tr style=\"text-align: right;\">\n",
       "      <th></th>\n",
       "      <th>MIMNumber_O</th>\n",
       "      <th>Entry_U</th>\n",
       "      <th>GeneName</th>\n",
       "    </tr>\n",
       "  </thead>\n",
       "  <tbody>\n",
       "    <tr>\n",
       "      <th>167</th>\n",
       "      <td>114130</td>\n",
       "      <td>P01258</td>\n",
       "      <td>CALCA CALC1</td>\n",
       "    </tr>\n",
       "    <tr>\n",
       "      <th>168</th>\n",
       "      <td>114130</td>\n",
       "      <td>P06881</td>\n",
       "      <td>CALCA CALC1</td>\n",
       "    </tr>\n",
       "    <tr>\n",
       "      <th>210</th>\n",
       "      <td>116896</td>\n",
       "      <td>P39880</td>\n",
       "      <td>CUX1 CUTL1</td>\n",
       "    </tr>\n",
       "    <tr>\n",
       "      <th>211</th>\n",
       "      <td>116896</td>\n",
       "      <td>Q13948</td>\n",
       "      <td>CUX1 CUTL1</td>\n",
       "    </tr>\n",
       "    <tr>\n",
       "      <th>398</th>\n",
       "      <td>134690</td>\n",
       "      <td>P35544</td>\n",
       "      <td>FAU</td>\n",
       "    </tr>\n",
       "    <tr>\n",
       "      <th>399</th>\n",
       "      <td>134690</td>\n",
       "      <td>P62861</td>\n",
       "      <td>FAU</td>\n",
       "    </tr>\n",
       "    <tr>\n",
       "      <th>438</th>\n",
       "      <td>137220</td>\n",
       "      <td>P01358</td>\n",
       "      <td>NaN</td>\n",
       "    </tr>\n",
       "    <tr>\n",
       "      <th>567</th>\n",
       "      <td>142800</td>\n",
       "      <td>P01891</td>\n",
       "      <td>HLA-A HLAA</td>\n",
       "    </tr>\n",
       "    <tr>\n",
       "      <th>568</th>\n",
       "      <td>142800</td>\n",
       "      <td>P01892</td>\n",
       "      <td>HLA-A HLAA</td>\n",
       "    </tr>\n",
       "    <tr>\n",
       "      <th>570</th>\n",
       "      <td>142800</td>\n",
       "      <td>P04439</td>\n",
       "      <td>HLA-A HLAA</td>\n",
       "    </tr>\n",
       "    <tr>\n",
       "      <th>571</th>\n",
       "      <td>142800</td>\n",
       "      <td>P05534</td>\n",
       "      <td>HLA-A HLAA</td>\n",
       "    </tr>\n",
       "    <tr>\n",
       "      <th>572</th>\n",
       "      <td>142800</td>\n",
       "      <td>P10314</td>\n",
       "      <td>HLA-A HLAA</td>\n",
       "    </tr>\n",
       "    <tr>\n",
       "      <th>573</th>\n",
       "      <td>142800</td>\n",
       "      <td>P10316</td>\n",
       "      <td>HLA-A HLAA</td>\n",
       "    </tr>\n",
       "    <tr>\n",
       "      <th>574</th>\n",
       "      <td>142800</td>\n",
       "      <td>P13746</td>\n",
       "      <td>HLA-A HLAA</td>\n",
       "    </tr>\n",
       "    <tr>\n",
       "      <th>575</th>\n",
       "      <td>142800</td>\n",
       "      <td>P16188</td>\n",
       "      <td>HLA-A HLAA</td>\n",
       "    </tr>\n",
       "    <tr>\n",
       "      <th>576</th>\n",
       "      <td>142800</td>\n",
       "      <td>P16190</td>\n",
       "      <td>HLA-A HLAA</td>\n",
       "    </tr>\n",
       "    <tr>\n",
       "      <th>577</th>\n",
       "      <td>142800</td>\n",
       "      <td>P18462</td>\n",
       "      <td>HLA-A HLAA</td>\n",
       "    </tr>\n",
       "    <tr>\n",
       "      <th>578</th>\n",
       "      <td>142800</td>\n",
       "      <td>P30443</td>\n",
       "      <td>HLA-A HLAA</td>\n",
       "    </tr>\n",
       "    <tr>\n",
       "      <th>579</th>\n",
       "      <td>142800</td>\n",
       "      <td>P30447</td>\n",
       "      <td>HLA-A HLAA</td>\n",
       "    </tr>\n",
       "    <tr>\n",
       "      <th>580</th>\n",
       "      <td>142800</td>\n",
       "      <td>P30450</td>\n",
       "      <td>HLA-A HLAA</td>\n",
       "    </tr>\n",
       "    <tr>\n",
       "      <th>581</th>\n",
       "      <td>142800</td>\n",
       "      <td>P30453</td>\n",
       "      <td>HLA-A HLAA</td>\n",
       "    </tr>\n",
       "    <tr>\n",
       "      <th>582</th>\n",
       "      <td>142800</td>\n",
       "      <td>P30455</td>\n",
       "      <td>HLA-A HLAA</td>\n",
       "    </tr>\n",
       "    <tr>\n",
       "      <th>583</th>\n",
       "      <td>142800</td>\n",
       "      <td>P30456</td>\n",
       "      <td>HLA-A HLAA</td>\n",
       "    </tr>\n",
       "    <tr>\n",
       "      <th>584</th>\n",
       "      <td>142800</td>\n",
       "      <td>P30457</td>\n",
       "      <td>HLA-A HLAA</td>\n",
       "    </tr>\n",
       "    <tr>\n",
       "      <th>585</th>\n",
       "      <td>142800</td>\n",
       "      <td>P30459</td>\n",
       "      <td>HLA-A HLAA</td>\n",
       "    </tr>\n",
       "    <tr>\n",
       "      <th>586</th>\n",
       "      <td>142800</td>\n",
       "      <td>P30512</td>\n",
       "      <td>HLA-A HLAA</td>\n",
       "    </tr>\n",
       "    <tr>\n",
       "      <th>587</th>\n",
       "      <td>142800</td>\n",
       "      <td>Q09160</td>\n",
       "      <td>HLA-A HLAA</td>\n",
       "    </tr>\n",
       "    <tr>\n",
       "      <th>588</th>\n",
       "      <td>142830</td>\n",
       "      <td>P01889</td>\n",
       "      <td>HLA-B HLAB</td>\n",
       "    </tr>\n",
       "    <tr>\n",
       "      <th>589</th>\n",
       "      <td>106300,142830</td>\n",
       "      <td>P03989</td>\n",
       "      <td>HLA-B HLAB</td>\n",
       "    </tr>\n",
       "    <tr>\n",
       "      <th>590</th>\n",
       "      <td>142830</td>\n",
       "      <td>P18463</td>\n",
       "      <td>HLA-B HLAB</td>\n",
       "    </tr>\n",
       "    <tr>\n",
       "      <th>...</th>\n",
       "      <td>...</td>\n",
       "      <td>...</td>\n",
       "      <td>...</td>\n",
       "    </tr>\n",
       "    <tr>\n",
       "      <th>4332</th>\n",
       "      <td>114500,139320,219080,603233</td>\n",
       "      <td>P84996</td>\n",
       "      <td>GNAS GNAS1</td>\n",
       "    </tr>\n",
       "    <tr>\n",
       "      <th>6034</th>\n",
       "      <td>605626</td>\n",
       "      <td>Q69383</td>\n",
       "      <td>ERVK-6 ERVK6</td>\n",
       "    </tr>\n",
       "    <tr>\n",
       "      <th>6035</th>\n",
       "      <td>605626</td>\n",
       "      <td>Q69384</td>\n",
       "      <td>ERVK-6 ERVK6</td>\n",
       "    </tr>\n",
       "    <tr>\n",
       "      <th>6036</th>\n",
       "      <td>605626</td>\n",
       "      <td>Q7LDI9</td>\n",
       "      <td>ERVK-6 ERVK6</td>\n",
       "    </tr>\n",
       "    <tr>\n",
       "      <th>6037</th>\n",
       "      <td>605626</td>\n",
       "      <td>Q9BXR3</td>\n",
       "      <td>ERVK-6 ERVK6</td>\n",
       "    </tr>\n",
       "    <tr>\n",
       "      <th>6038</th>\n",
       "      <td>605626</td>\n",
       "      <td>Q9Y6I0</td>\n",
       "      <td>ERVK-6 ERVK6</td>\n",
       "    </tr>\n",
       "    <tr>\n",
       "      <th>6210</th>\n",
       "      <td>605854</td>\n",
       "      <td>Q96PG8</td>\n",
       "      <td>BBC3 PUMA</td>\n",
       "    </tr>\n",
       "    <tr>\n",
       "      <th>6211</th>\n",
       "      <td>605854</td>\n",
       "      <td>Q9BXH1</td>\n",
       "      <td>BBC3 PUMA</td>\n",
       "    </tr>\n",
       "    <tr>\n",
       "      <th>6682</th>\n",
       "      <td>606485</td>\n",
       "      <td>P0CAP2</td>\n",
       "      <td>POLR2M GRINL1A</td>\n",
       "    </tr>\n",
       "    <tr>\n",
       "      <th>6683</th>\n",
       "      <td>606485</td>\n",
       "      <td>Q6EEV4</td>\n",
       "      <td>POLR2M GRINL1A</td>\n",
       "    </tr>\n",
       "    <tr>\n",
       "      <th>8208</th>\n",
       "      <td>142830,608579</td>\n",
       "      <td>P10319</td>\n",
       "      <td>HLA-B HLAB</td>\n",
       "    </tr>\n",
       "    <tr>\n",
       "      <th>8209</th>\n",
       "      <td>142800,608579</td>\n",
       "      <td>P16189</td>\n",
       "      <td>HLA-A HLAA</td>\n",
       "    </tr>\n",
       "    <tr>\n",
       "      <th>8210</th>\n",
       "      <td>142830,608579</td>\n",
       "      <td>P30464</td>\n",
       "      <td>HLA-B HLAB</td>\n",
       "    </tr>\n",
       "    <tr>\n",
       "      <th>8219</th>\n",
       "      <td>608598</td>\n",
       "      <td>Q6XLA1</td>\n",
       "      <td>CASC2 C10orf5</td>\n",
       "    </tr>\n",
       "    <tr>\n",
       "      <th>8220</th>\n",
       "      <td>608598</td>\n",
       "      <td>Q8IU53</td>\n",
       "      <td>CASC2 C10orf5</td>\n",
       "    </tr>\n",
       "    <tr>\n",
       "      <th>8390</th>\n",
       "      <td>608856</td>\n",
       "      <td>Q96RT6</td>\n",
       "      <td>CTAGE1 CTAGE2</td>\n",
       "    </tr>\n",
       "    <tr>\n",
       "      <th>8391</th>\n",
       "      <td>608856</td>\n",
       "      <td>Q9HC47</td>\n",
       "      <td>CTAGE1 CTAGE2</td>\n",
       "    </tr>\n",
       "    <tr>\n",
       "      <th>8891</th>\n",
       "      <td>142857,609532</td>\n",
       "      <td>P13761</td>\n",
       "      <td>HLA-DRB1</td>\n",
       "    </tr>\n",
       "    <tr>\n",
       "      <th>8892</th>\n",
       "      <td>142857,609532</td>\n",
       "      <td>P20039</td>\n",
       "      <td>HLA-DRB1</td>\n",
       "    </tr>\n",
       "    <tr>\n",
       "      <th>11011</th>\n",
       "      <td>139320,219080,603233,612462</td>\n",
       "      <td>Q5JWF2</td>\n",
       "      <td>GNAS GNAS1</td>\n",
       "    </tr>\n",
       "    <tr>\n",
       "      <th>11868</th>\n",
       "      <td>613715</td>\n",
       "      <td>P0DPB5</td>\n",
       "      <td>POLR1D</td>\n",
       "    </tr>\n",
       "    <tr>\n",
       "      <th>11869</th>\n",
       "      <td>613715,613717</td>\n",
       "      <td>P0DPB6</td>\n",
       "      <td>POLR1D</td>\n",
       "    </tr>\n",
       "    <tr>\n",
       "      <th>12096</th>\n",
       "      <td>614012</td>\n",
       "      <td>P61583</td>\n",
       "      <td>ERVK-5 ERVK5</td>\n",
       "    </tr>\n",
       "    <tr>\n",
       "      <th>12097</th>\n",
       "      <td>614012</td>\n",
       "      <td>Q9HDB9</td>\n",
       "      <td>ERVK-5 ERVK5</td>\n",
       "    </tr>\n",
       "    <tr>\n",
       "      <th>12098</th>\n",
       "      <td>614013</td>\n",
       "      <td>P61567</td>\n",
       "      <td>ERVK-7</td>\n",
       "    </tr>\n",
       "    <tr>\n",
       "      <th>12099</th>\n",
       "      <td>614013</td>\n",
       "      <td>P61582</td>\n",
       "      <td>ERVK-7</td>\n",
       "    </tr>\n",
       "    <tr>\n",
       "      <th>12100</th>\n",
       "      <td>614013</td>\n",
       "      <td>P63130</td>\n",
       "      <td>ERVK-7</td>\n",
       "    </tr>\n",
       "    <tr>\n",
       "      <th>12101</th>\n",
       "      <td>614013</td>\n",
       "      <td>P63131</td>\n",
       "      <td>ERVK-7</td>\n",
       "    </tr>\n",
       "    <tr>\n",
       "      <th>12102</th>\n",
       "      <td>614013</td>\n",
       "      <td>P63135</td>\n",
       "      <td>ERVK-7</td>\n",
       "    </tr>\n",
       "    <tr>\n",
       "      <th>14268</th>\n",
       "      <td>616891</td>\n",
       "      <td>P0DN84</td>\n",
       "      <td>NaN</td>\n",
       "    </tr>\n",
       "  </tbody>\n",
       "</table>\n",
       "<p>114 rows × 3 columns</p>\n",
       "</div>"
      ],
      "text/plain": [
       "                       MIMNumber_O Entry_U        GeneName\n",
       "167                         114130  P01258     CALCA CALC1\n",
       "168                         114130  P06881     CALCA CALC1\n",
       "210                         116896  P39880      CUX1 CUTL1\n",
       "211                         116896  Q13948      CUX1 CUTL1\n",
       "398                         134690  P35544             FAU\n",
       "399                         134690  P62861             FAU\n",
       "438                         137220  P01358             NaN\n",
       "567                         142800  P01891      HLA-A HLAA\n",
       "568                         142800  P01892      HLA-A HLAA\n",
       "570                         142800  P04439      HLA-A HLAA\n",
       "571                         142800  P05534      HLA-A HLAA\n",
       "572                         142800  P10314      HLA-A HLAA\n",
       "573                         142800  P10316      HLA-A HLAA\n",
       "574                         142800  P13746      HLA-A HLAA\n",
       "575                         142800  P16188      HLA-A HLAA\n",
       "576                         142800  P16190      HLA-A HLAA\n",
       "577                         142800  P18462      HLA-A HLAA\n",
       "578                         142800  P30443      HLA-A HLAA\n",
       "579                         142800  P30447      HLA-A HLAA\n",
       "580                         142800  P30450      HLA-A HLAA\n",
       "581                         142800  P30453      HLA-A HLAA\n",
       "582                         142800  P30455      HLA-A HLAA\n",
       "583                         142800  P30456      HLA-A HLAA\n",
       "584                         142800  P30457      HLA-A HLAA\n",
       "585                         142800  P30459      HLA-A HLAA\n",
       "586                         142800  P30512      HLA-A HLAA\n",
       "587                         142800  Q09160      HLA-A HLAA\n",
       "588                         142830  P01889      HLA-B HLAB\n",
       "589                  106300,142830  P03989      HLA-B HLAB\n",
       "590                         142830  P18463      HLA-B HLAB\n",
       "...                            ...     ...             ...\n",
       "4332   114500,139320,219080,603233  P84996      GNAS GNAS1\n",
       "6034                        605626  Q69383    ERVK-6 ERVK6\n",
       "6035                        605626  Q69384    ERVK-6 ERVK6\n",
       "6036                        605626  Q7LDI9    ERVK-6 ERVK6\n",
       "6037                        605626  Q9BXR3    ERVK-6 ERVK6\n",
       "6038                        605626  Q9Y6I0    ERVK-6 ERVK6\n",
       "6210                        605854  Q96PG8       BBC3 PUMA\n",
       "6211                        605854  Q9BXH1       BBC3 PUMA\n",
       "6682                        606485  P0CAP2  POLR2M GRINL1A\n",
       "6683                        606485  Q6EEV4  POLR2M GRINL1A\n",
       "8208                 142830,608579  P10319      HLA-B HLAB\n",
       "8209                 142800,608579  P16189      HLA-A HLAA\n",
       "8210                 142830,608579  P30464      HLA-B HLAB\n",
       "8219                        608598  Q6XLA1   CASC2 C10orf5\n",
       "8220                        608598  Q8IU53   CASC2 C10orf5\n",
       "8390                        608856  Q96RT6   CTAGE1 CTAGE2\n",
       "8391                        608856  Q9HC47   CTAGE1 CTAGE2\n",
       "8891                 142857,609532  P13761        HLA-DRB1\n",
       "8892                 142857,609532  P20039        HLA-DRB1\n",
       "11011  139320,219080,603233,612462  Q5JWF2      GNAS GNAS1\n",
       "11868                       613715  P0DPB5          POLR1D\n",
       "11869                613715,613717  P0DPB6          POLR1D\n",
       "12096                       614012  P61583    ERVK-5 ERVK5\n",
       "12097                       614012  Q9HDB9    ERVK-5 ERVK5\n",
       "12098                       614013  P61567          ERVK-7\n",
       "12099                       614013  P61582          ERVK-7\n",
       "12100                       614013  P63130          ERVK-7\n",
       "12101                       614013  P63131          ERVK-7\n",
       "12102                       614013  P63135          ERVK-7\n",
       "14268                       616891  P0DN84             NaN\n",
       "\n",
       "[114 rows x 3 columns]"
      ]
     },
     "execution_count": 23,
     "metadata": {},
     "output_type": "execute_result"
    }
   ],
   "source": [
    "df_O[df_O.duplicated(subset='GeneName',keep=False)]"
   ]
  },
  {
   "cell_type": "code",
   "execution_count": 24,
   "metadata": {},
   "outputs": [
    {
     "data": {
      "text/html": [
       "<div>\n",
       "<style>\n",
       "    .dataframe thead tr:only-child th {\n",
       "        text-align: right;\n",
       "    }\n",
       "\n",
       "    .dataframe thead th {\n",
       "        text-align: left;\n",
       "    }\n",
       "\n",
       "    .dataframe tbody tr th {\n",
       "        vertical-align: top;\n",
       "    }\n",
       "</style>\n",
       "<table border=\"1\" class=\"dataframe\">\n",
       "  <thead>\n",
       "    <tr style=\"text-align: right;\">\n",
       "      <th></th>\n",
       "      <th>MIMNumber_O</th>\n",
       "      <th>Entry_U</th>\n",
       "      <th>GeneName</th>\n",
       "    </tr>\n",
       "  </thead>\n",
       "  <tbody>\n",
       "    <tr>\n",
       "      <th>438</th>\n",
       "      <td>137220</td>\n",
       "      <td>P01358</td>\n",
       "      <td>NaN</td>\n",
       "    </tr>\n",
       "    <tr>\n",
       "      <th>14268</th>\n",
       "      <td>616891</td>\n",
       "      <td>P0DN84</td>\n",
       "      <td>NaN</td>\n",
       "    </tr>\n",
       "  </tbody>\n",
       "</table>\n",
       "</div>"
      ],
      "text/plain": [
       "      MIMNumber_O Entry_U GeneName\n",
       "438        137220  P01358      NaN\n",
       "14268      616891  P0DN84      NaN"
      ]
     },
     "execution_count": 24,
     "metadata": {},
     "output_type": "execute_result"
    }
   ],
   "source": [
    "df_O[df_O.GeneName.isnull()]"
   ]
  },
  {
   "cell_type": "code",
   "execution_count": 25,
   "metadata": {
    "collapsed": true
   },
   "outputs": [],
   "source": [
    "df_O=df_O[df_O.GeneName.notnull()]\n",
    "df_O['GeneName']=df_O['GeneName'].apply(lambda x:x.split(' ')[0])"
   ]
  },
  {
   "cell_type": "code",
   "execution_count": 26,
   "metadata": {},
   "outputs": [
    {
     "data": {
      "text/html": [
       "<div>\n",
       "<style>\n",
       "    .dataframe thead tr:only-child th {\n",
       "        text-align: right;\n",
       "    }\n",
       "\n",
       "    .dataframe thead th {\n",
       "        text-align: left;\n",
       "    }\n",
       "\n",
       "    .dataframe tbody tr th {\n",
       "        vertical-align: top;\n",
       "    }\n",
       "</style>\n",
       "<table border=\"1\" class=\"dataframe\">\n",
       "  <thead>\n",
       "    <tr style=\"text-align: right;\">\n",
       "      <th></th>\n",
       "      <th>MIMNumber_O</th>\n",
       "      <th>Entry_U</th>\n",
       "      <th>GeneName</th>\n",
       "    </tr>\n",
       "  </thead>\n",
       "  <tbody>\n",
       "    <tr>\n",
       "      <th>6285</th>\n",
       "      <td>605949</td>\n",
       "      <td>Q9NQ84</td>\n",
       "      <td>GPRC5C</td>\n",
       "    </tr>\n",
       "    <tr>\n",
       "      <th>8187</th>\n",
       "      <td>144700,171300,193300,263400,608537</td>\n",
       "      <td>P40337</td>\n",
       "      <td>VHL</td>\n",
       "    </tr>\n",
       "    <tr>\n",
       "      <th>3153</th>\n",
       "      <td>601514</td>\n",
       "      <td>Q92914</td>\n",
       "      <td>FGF11</td>\n",
       "    </tr>\n",
       "    <tr>\n",
       "      <th>5037</th>\n",
       "      <td>182601,604277</td>\n",
       "      <td>Q9UBP0</td>\n",
       "      <td>SPAST</td>\n",
       "    </tr>\n",
       "    <tr>\n",
       "      <th>5929</th>\n",
       "      <td>605482</td>\n",
       "      <td>P78417</td>\n",
       "      <td>GSTO1</td>\n",
       "    </tr>\n",
       "    <tr>\n",
       "      <th>14555</th>\n",
       "      <td>617325</td>\n",
       "      <td>A0PJX4</td>\n",
       "      <td>SHISA3</td>\n",
       "    </tr>\n",
       "    <tr>\n",
       "      <th>11475</th>\n",
       "      <td>607439,613150,613156,613158</td>\n",
       "      <td>Q9UKY4</td>\n",
       "      <td>POMT2</td>\n",
       "    </tr>\n",
       "    <tr>\n",
       "      <th>1716</th>\n",
       "      <td>300149</td>\n",
       "      <td>Q99966</td>\n",
       "      <td>CITED1</td>\n",
       "    </tr>\n",
       "    <tr>\n",
       "      <th>396</th>\n",
       "      <td>134651</td>\n",
       "      <td>P05413</td>\n",
       "      <td>FABP3</td>\n",
       "    </tr>\n",
       "    <tr>\n",
       "      <th>8343</th>\n",
       "      <td>608784</td>\n",
       "      <td>Q9ULC8</td>\n",
       "      <td>ZDHHC8</td>\n",
       "    </tr>\n",
       "    <tr>\n",
       "      <th>2079</th>\n",
       "      <td>300137,300888</td>\n",
       "      <td>Q8N6C5</td>\n",
       "      <td>IGSF1</td>\n",
       "    </tr>\n",
       "    <tr>\n",
       "      <th>14311</th>\n",
       "      <td>616952</td>\n",
       "      <td>Q96AQ8</td>\n",
       "      <td>MCUR1</td>\n",
       "    </tr>\n",
       "    <tr>\n",
       "      <th>2552</th>\n",
       "      <td>600400</td>\n",
       "      <td>P48147</td>\n",
       "      <td>PREP</td>\n",
       "    </tr>\n",
       "    <tr>\n",
       "      <th>8356</th>\n",
       "      <td>603503,608799</td>\n",
       "      <td>O60762</td>\n",
       "      <td>DPM1</td>\n",
       "    </tr>\n",
       "    <tr>\n",
       "      <th>128</th>\n",
       "      <td>109715</td>\n",
       "      <td>P14060</td>\n",
       "      <td>HSD3B1</td>\n",
       "    </tr>\n",
       "    <tr>\n",
       "      <th>2633</th>\n",
       "      <td>182940,600533</td>\n",
       "      <td>Q9ULK5</td>\n",
       "      <td>VANGL2</td>\n",
       "    </tr>\n",
       "    <tr>\n",
       "      <th>14285</th>\n",
       "      <td>614958,616913</td>\n",
       "      <td>P0C7P3</td>\n",
       "      <td>SLFN14</td>\n",
       "    </tr>\n",
       "    <tr>\n",
       "      <th>6426</th>\n",
       "      <td>606132</td>\n",
       "      <td>O14613</td>\n",
       "      <td>CDC42EP2</td>\n",
       "    </tr>\n",
       "    <tr>\n",
       "      <th>3018</th>\n",
       "      <td>601245</td>\n",
       "      <td>Q13112</td>\n",
       "      <td>CHAF1B</td>\n",
       "    </tr>\n",
       "    <tr>\n",
       "      <th>3984</th>\n",
       "      <td>602733</td>\n",
       "      <td>P49189</td>\n",
       "      <td>ALDH9A1</td>\n",
       "    </tr>\n",
       "    <tr>\n",
       "      <th>758</th>\n",
       "      <td>147572</td>\n",
       "      <td>P09912</td>\n",
       "      <td>IFI6</td>\n",
       "    </tr>\n",
       "  </tbody>\n",
       "</table>\n",
       "</div>"
      ],
      "text/plain": [
       "                              MIMNumber_O Entry_U  GeneName\n",
       "6285                               605949  Q9NQ84    GPRC5C\n",
       "8187   144700,171300,193300,263400,608537  P40337       VHL\n",
       "3153                               601514  Q92914     FGF11\n",
       "5037                        182601,604277  Q9UBP0     SPAST\n",
       "5929                               605482  P78417     GSTO1\n",
       "14555                              617325  A0PJX4    SHISA3\n",
       "11475         607439,613150,613156,613158  Q9UKY4     POMT2\n",
       "1716                               300149  Q99966    CITED1\n",
       "396                                134651  P05413     FABP3\n",
       "8343                               608784  Q9ULC8    ZDHHC8\n",
       "2079                        300137,300888  Q8N6C5     IGSF1\n",
       "14311                              616952  Q96AQ8     MCUR1\n",
       "2552                               600400  P48147      PREP\n",
       "8356                        603503,608799  O60762      DPM1\n",
       "128                                109715  P14060    HSD3B1\n",
       "2633                        182940,600533  Q9ULK5    VANGL2\n",
       "14285                       614958,616913  P0C7P3    SLFN14\n",
       "6426                               606132  O14613  CDC42EP2\n",
       "3018                               601245  Q13112    CHAF1B\n",
       "3984                               602733  P49189   ALDH9A1\n",
       "758                                147572  P09912      IFI6"
      ]
     },
     "execution_count": 26,
     "metadata": {},
     "output_type": "execute_result"
    }
   ],
   "source": [
    "df_O.sample(21)"
   ]
  },
  {
   "cell_type": "code",
   "execution_count": 27,
   "metadata": {},
   "outputs": [
    {
     "data": {
      "text/plain": [
       "(14859, 3)"
      ]
     },
     "execution_count": 27,
     "metadata": {},
     "output_type": "execute_result"
    }
   ],
   "source": [
    "df_O.shape"
   ]
  },
  {
   "cell_type": "markdown",
   "metadata": {},
   "source": [
    "## Number of entires in above OMIM list: 14,859 with 3 columns.\n",
    "\n",
    "We are focusing on those entries which are associted with disease."
   ]
  },
  {
   "cell_type": "markdown",
   "metadata": {},
   "source": [
    "### Number of entires in above OMIM list after removing entries without gene name: 16,021 with 5 columns."
   ]
  },
  {
   "cell_type": "markdown",
   "metadata": {},
   "source": [
    "## Testing for Gene involved in multiple disorder"
   ]
  },
  {
   "cell_type": "markdown",
   "metadata": {},
   "source": [
    "# Merging OMIM to Uniprot"
   ]
  },
  {
   "cell_type": "code",
   "execution_count": 28,
   "metadata": {},
   "outputs": [
    {
     "data": {
      "text/plain": [
       "(57852, 15)"
      ]
     },
     "execution_count": 28,
     "metadata": {},
     "output_type": "execute_result"
    }
   ],
   "source": [
    "df_merged=pd.merge(df_merged_U,df_O,how='left', on=['GeneName','Entry_U'])\n",
    "df_merged.shape"
   ]
  },
  {
   "cell_type": "code",
   "execution_count": 30,
   "metadata": {},
   "outputs": [
    {
     "data": {
      "text/html": [
       "<div>\n",
       "<style>\n",
       "    .dataframe thead tr:only-child th {\n",
       "        text-align: right;\n",
       "    }\n",
       "\n",
       "    .dataframe thead th {\n",
       "        text-align: left;\n",
       "    }\n",
       "\n",
       "    .dataframe tbody tr th {\n",
       "        vertical-align: top;\n",
       "    }\n",
       "</style>\n",
       "<table border=\"1\" class=\"dataframe\">\n",
       "  <thead>\n",
       "    <tr style=\"text-align: right;\">\n",
       "      <th></th>\n",
       "      <th>Entry_U</th>\n",
       "      <th>Variant_U</th>\n",
       "      <th>VariantID_U</th>\n",
       "      <th>VariantSource</th>\n",
       "      <th>dbSNP_U</th>\n",
       "      <th>FromTo_U</th>\n",
       "      <th>VariantPos_U</th>\n",
       "      <th>PubMed_U</th>\n",
       "      <th>Disease_U</th>\n",
       "      <th>MIM_U</th>\n",
       "      <th>GeneName</th>\n",
       "      <th>ProteinName_U</th>\n",
       "      <th>Organism_U</th>\n",
       "      <th>Entryname_U</th>\n",
       "      <th>MIMNumber_O</th>\n",
       "    </tr>\n",
       "  </thead>\n",
       "  <tbody>\n",
       "    <tr>\n",
       "      <th>43775</th>\n",
       "      <td>P01112</td>\n",
       "      <td>VARIANT 13 13 G -&gt; R (in SFM; somatic mutation; shows constitutive activation of the MAPK and PI3K-AKT signaling pathways; dbSNP:rs104894228). {ECO:0000269|PubMed:22683711}.</td>\n",
       "      <td>VAR_068817</td>\n",
       "      <td>Uniprot</td>\n",
       "      <td>rs104894228</td>\n",
       "      <td>13-13</td>\n",
       "      <td>G-&gt;R</td>\n",
       "      <td>22683711</td>\n",
       "      <td>Schimmelpenning-Feuerstein-Mims syndrome (SFM)</td>\n",
       "      <td>163200</td>\n",
       "      <td>HRAS</td>\n",
       "      <td>GTPase HRas (H-Ras-1) (Ha-Ras) (Transforming protein p21) (c-H-ras) (p21ras) [Cleaved into: GTPase HRas, N-terminally processed]</td>\n",
       "      <td>Homo sapiens (Human)</td>\n",
       "      <td>RASH_HUMAN</td>\n",
       "      <td>109800,163200,188470,190020,218040</td>\n",
       "    </tr>\n",
       "    <tr>\n",
       "      <th>22615</th>\n",
       "      <td>Q53GS7</td>\n",
       "      <td>VARIANT 684 684 I -&gt; T (in LAAHD; dbSNP:rs121434409). {ECO:0000269|PubMed:18204449}.</td>\n",
       "      <td>VAR_043877</td>\n",
       "      <td>Uniprot</td>\n",
       "      <td>rs121434409</td>\n",
       "      <td>684-684</td>\n",
       "      <td>I-&gt;T</td>\n",
       "      <td>18204449</td>\n",
       "      <td>Lethal arthrogryposis with anterior horn cell disease (LAAHD)</td>\n",
       "      <td>611890</td>\n",
       "      <td>GLE1</td>\n",
       "      <td>Nucleoporin GLE1 (hGLE1) (GLE1-like protein)</td>\n",
       "      <td>Homo sapiens (Human)</td>\n",
       "      <td>GLE1_HUMAN</td>\n",
       "      <td>253310,603371,611890</td>\n",
       "    </tr>\n",
       "  </tbody>\n",
       "</table>\n",
       "</div>"
      ],
      "text/plain": [
       "      Entry_U  \\\n",
       "43775  P01112   \n",
       "22615  Q53GS7   \n",
       "\n",
       "                                                                                                                                                                           Variant_U  \\\n",
       "43775  VARIANT 13 13 G -> R (in SFM; somatic mutation; shows constitutive activation of the MAPK and PI3K-AKT signaling pathways; dbSNP:rs104894228). {ECO:0000269|PubMed:22683711}.   \n",
       "22615                                                                                           VARIANT 684 684 I -> T (in LAAHD; dbSNP:rs121434409). {ECO:0000269|PubMed:18204449}.   \n",
       "\n",
       "      VariantID_U VariantSource      dbSNP_U FromTo_U VariantPos_U  PubMed_U  \\\n",
       "43775  VAR_068817       Uniprot  rs104894228    13-13         G->R  22683711   \n",
       "22615  VAR_043877       Uniprot  rs121434409  684-684         I->T  18204449   \n",
       "\n",
       "                                                           Disease_U   MIM_U  \\\n",
       "43775                 Schimmelpenning-Feuerstein-Mims syndrome (SFM)  163200   \n",
       "22615  Lethal arthrogryposis with anterior horn cell disease (LAAHD)  611890   \n",
       "\n",
       "      GeneName  \\\n",
       "43775     HRAS   \n",
       "22615     GLE1   \n",
       "\n",
       "                                                                                                                          ProteinName_U  \\\n",
       "43775  GTPase HRas (H-Ras-1) (Ha-Ras) (Transforming protein p21) (c-H-ras) (p21ras) [Cleaved into: GTPase HRas, N-terminally processed]   \n",
       "22615                                                                                      Nucleoporin GLE1 (hGLE1) (GLE1-like protein)   \n",
       "\n",
       "                 Organism_U Entryname_U                         MIMNumber_O  \n",
       "43775  Homo sapiens (Human)  RASH_HUMAN  109800,163200,188470,190020,218040  \n",
       "22615  Homo sapiens (Human)  GLE1_HUMAN                253310,603371,611890  "
      ]
     },
     "execution_count": 30,
     "metadata": {},
     "output_type": "execute_result"
    }
   ],
   "source": [
    "df_merged.sample(2)"
   ]
  },
  {
   "cell_type": "markdown",
   "metadata": {},
   "source": [
    "### Number of entires after merging OMIM and Uniprot list : 57,852 with 15 columns."
   ]
  },
  {
   "cell_type": "markdown",
   "metadata": {},
   "source": [
    "We are now focusing on Genes having known MIM IDs(Genes known to have involment in disease). We have filtered out the entires without any MIM ID."
   ]
  },
  {
   "cell_type": "code",
   "execution_count": null,
   "metadata": {
    "collapsed": true
   },
   "outputs": [],
   "source": [
    "#df_merged[df_merged.MIMNumber_O.isnull()].head(5) #checking genes without any disease id \n",
    "#df_merged[df_merged['GeneName'] =='HSD3B7'] #checking a specific gene\n",
    "#df_merged=df_merged.dropna(subset=['MIMNumber_O']) # \n",
    "#df_merged.shape"
   ]
  },
  {
   "cell_type": "markdown",
   "metadata": {},
   "source": [
    "# Number of entires in the merged list after removing entries without MIM ids: 15,034 with 11 columns."
   ]
  },
  {
   "cell_type": "code",
   "execution_count": null,
   "metadata": {
    "collapsed": true
   },
   "outputs": [],
   "source": [
    "df_merged[df_merged['GeneName'] =='TP53']#.to_csv(<<gene_name>>.csv') # checking one sample gene"
   ]
  },
  {
   "cell_type": "markdown",
   "metadata": {},
   "source": [
    "### <font color='red'>Assumption and Considerations:</font>\n",
    "Please note that Uniprot is considered as the master list and merged with the OMIM list.\n",
    "\n",
    "We can see that the numner of entries for TP53 is reduced to only 1. Possible reasons(need investigation):\n",
    "1) We may have GeneName in OMIM not present Uniprot list\n",
    "2) We may have dropped ids without proper validation."
   ]
  },
  {
   "cell_type": "markdown",
   "metadata": {},
   "source": [
    "# 4.1.4 Import COSMIC\n",
    "\n",
    "### Note:\n",
    "Import mutation dataset from COSMIC database. It provides a tab separated table of the complete curated COSMIC dataset (targeted screens) from the current release. It includes all coding point mutations, and the negative data set. The name of the file is 'CosmicCompleteTargetedScreensMutantExport.tsv.gz'\n",
    "\n",
    "We will only consider those entires which have Mutation IDs."
   ]
  },
  {
   "cell_type": "code",
   "execution_count": null,
   "metadata": {
    "collapsed": true
   },
   "outputs": [],
   "source": [
    "blob = storage.Blob('CosmicCompleteTargetedScreensMutantExport.tsv',bucket)\n",
    "with open('CosmicCompleteTargetedScreensMutantExport.tsv', 'wb') as file_obj:\n",
    "    blob.download_to_file(file_obj)"
   ]
  },
  {
   "cell_type": "code",
   "execution_count": null,
   "metadata": {
    "collapsed": true
   },
   "outputs": [],
   "source": [
    "import pandas as pd\n",
    "chunksize = 10 ** 6\n",
    "cosmic_C=pd.DataFrame()\n",
    "colnames=[\"GeneName\",\"AccessionNumber_C\",\"GeneCDSlength\",\"HGNCid\",\"SampleName\",\"SampleId\", \\\n",
    "          \"IdTumour\", \"PrimarySite\",\"SiteSubtype1\",\"SiteSubtype2\",\"SiteSubtype3\", \\\n",
    "          \"PrimaryHistology\",\"HistologySubtype1\", \"HistologySubtype2\",\"HistologySubtype3\", \\\n",
    "          \"GenomeWideScreen\",\"MutationId_C\",\"MutationCDS\",\"MutationAA_C\", \"MutationDescription_C\", \\\n",
    "          \"MutationZygosity\",\"LOH\",\"GRCh\",\"MutationGenomePosition_C\",\"MutationStrand\", \n",
    "          \"SNP\",\"ResistanceMutation\",\"FATHMMPrediction\",\"FATHMMScore\",\"MutationSomaticStatus\", \\\n",
    "          \"Pubmed_PMID\", \"IdStudy\",\"SampleSource\",\"TumourOrigin\",\"Age\"]\n",
    "\n",
    "for chunk in pd.read_csv('CosmicCompleteTargetedScreensMutantExport.tsv',sep='\\t',header=0, \\\n",
    "                         names=colnames,low_memory=False, \\\n",
    "                 dtype={\"GeneName\":object,\"AccessionNumber\":object,\"GeneCDSlength\":object, \\\n",
    "                        \"HGNCid\":object,\"SampleName\":object,\"SampleId\":object,\"IdTumour\":object, \\\n",
    "                        \"PrimarySite\":object,\"SiteSubtype1\":object,\"SiteSubtype2\":object, \\\n",
    "                        \"SiteSubtype3\":object,\"PrimaryHistology\":object,\"HistologySubtype1\":object, \\\n",
    "                        \"HistologySubtype2\":object,\"HistologySubtype3\":object,\"GenomeWideScreen\":object, \\\n",
    "                        \"MutationId\":object,\"MutationCDS\":object,\"MutationAA_C\":object, \\\n",
    "                        \"MutationDescription\":object, \"MutationZygosity\":object,\"LOH\":object,\"GRCh\":object, \\\n",
    "                        \"MutationGenomePosition\":object, \"MutationStrand\":object,\"SNP\":object, \\\n",
    "                        \"ResistanceMutation\":object,\"FATHMMPrediction\":object, \n",
    "                        \"FATHMMScore\":object,\"MutationSomaticStatus\":object,\"Pubmed_PMID\":object, \\\n",
    "                        \"IdStudy\":object,\"SampleSource\":object,\"TumourOrigin\":object,\"Age\":object}, \\\n",
    "                 chunksize=chunksize\n",
    "                ):\n",
    "    cosmic_C=chunk[['GeneName','AccessionNumber_C','MutationId_C','MutationDescription_C', \\\n",
    "                  'MutationGenomePosition_C','MutationAA_C']].loc[chunk.MutationId_C.notnull()]\n",
    "                  #selecting only with mutation id from Cosmic file"
   ]
  },
  {
   "cell_type": "code",
   "execution_count": null,
   "metadata": {
    "collapsed": true
   },
   "outputs": [],
   "source": [
    "cosmic_C.shape"
   ]
  },
  {
   "cell_type": "code",
   "execution_count": null,
   "metadata": {
    "collapsed": true
   },
   "outputs": [],
   "source": [
    "cosmic_C.sample(31)"
   ]
  },
  {
   "cell_type": "markdown",
   "metadata": {},
   "source": [
    "## Number of entires in the COSMIC list after removing entires without mutation IDs: 13,155 with 5 columns."
   ]
  },
  {
   "cell_type": "markdown",
   "metadata": {},
   "source": [
    "# Merging COSMIC to Uniprot"
   ]
  },
  {
   "cell_type": "code",
   "execution_count": null,
   "metadata": {
    "collapsed": true
   },
   "outputs": [],
   "source": [
    "df_merged=pd.merge(df_merged,cosmic_C,how='left', on='GeneName')\n",
    "df_merged.shape"
   ]
  },
  {
   "cell_type": "markdown",
   "metadata": {},
   "source": [
    "## Number of entires in the merged list after including COSMIC dataset: 26,934 with 16 columns."
   ]
  },
  {
   "cell_type": "code",
   "execution_count": null,
   "metadata": {
    "collapsed": true
   },
   "outputs": [],
   "source": [
    "df_merged[df_merged['GeneName'] =='TP53'] # checking one sample gene. We can see lot of duplicate entries in the list.\n",
    "#df_merged.NaturalVariant_U[5]"
   ]
  },
  {
   "cell_type": "markdown",
   "metadata": {},
   "source": [
    "# 4.2 Analysis"
   ]
  },
  {
   "cell_type": "code",
   "execution_count": null,
   "metadata": {
    "collapsed": true
   },
   "outputs": [],
   "source": [
    "#Removing entries from omim file without a gene name.\n",
    "#df_snp_u=df_snp_u[(df_snp_u.NaturalVariant.notnull()) | (df_snp_u.Mutagenesis.notnull())] \n",
    "#df_snp_u.shape\n",
    "df_merged.shape\n",
    "df_merged.sample(5)"
   ]
  },
  {
   "cell_type": "markdown",
   "metadata": {},
   "source": [
    "# Number of entires in the merged list after including OMIM,COSMIC and Uniprot dataset: 26,934, with 15 columns.¶"
   ]
  },
  {
   "cell_type": "code",
   "execution_count": null,
   "metadata": {
    "collapsed": true
   },
   "outputs": [],
   "source": [
    "df_merged.columns"
   ]
  },
  {
   "cell_type": "code",
   "execution_count": null,
   "metadata": {
    "collapsed": true
   },
   "outputs": [],
   "source": [
    "df_merged.columns=['GeneName', 'Entry_U', 'ProteinName_U', 'Organism_U', 'Entryname_U',\n",
    "       'EnsemblGeneID_U', 'MIMNumber_O', 'MIMEntryType_O',\n",
    "       'EntrezGeneID_NCBI_O', 'EnsemblGeneID_O', 'AccessionNumber_C',\n",
    "       'MutationId_C', 'MutationDescription_C', 'MutationGenomePosition_C', 'UniprotID',\n",
    "       'NaturalVariant_U', 'Mutagenesis_U']"
   ]
  },
  {
   "cell_type": "code",
   "execution_count": null,
   "metadata": {
    "collapsed": true
   },
   "outputs": [],
   "source": [
    "df_merged=df_merged[['UniprotID','GeneName', 'Entry_U', 'ProteinName_U','EnsemblGeneID_U', \\\n",
    "                     'EnsemblGeneID_O','EntrezGeneID_NCBI_O','MIMNumber_O', 'MIMEntryType_O', \\\n",
    "                     'NaturalVariant_U','Mutagenesis_U','AccessionNumber_C','MutationId_C', \\\n",
    "                     'MutationDescription_C', 'MutationGenomePosition_C']]"
   ]
  },
  {
   "cell_type": "code",
   "execution_count": null,
   "metadata": {
    "collapsed": true
   },
   "outputs": [],
   "source": [
    "df_merged[df_merged['GeneName'] =='TP53']"
   ]
  },
  {
   "cell_type": "code",
   "execution_count": null,
   "metadata": {
    "collapsed": true
   },
   "outputs": [],
   "source": [
    "df_merged.columns"
   ]
  },
  {
   "cell_type": "code",
   "execution_count": null,
   "metadata": {
    "collapsed": true
   },
   "outputs": [],
   "source": [
    "import datetime as dt\n",
    "from datetime import datetime\n",
    "from pytz import timezone\n",
    "\n",
    "import uuid\n",
    "\n",
    "tz = timezone('EST') # adding time zone info\n",
    "datetime.now(tz) \n",
    "df_merged['Entrydate'] = dt.datetime.now()\n",
    "\n",
    "df_merged.insert(0,'Id',uuid.uuid4()) \n",
    "df_merged.Id= df_merged.Id.apply(lambda x: uuid.uuid4()) # adding unique identifier"
   ]
  },
  {
   "cell_type": "code",
   "execution_count": null,
   "metadata": {
    "collapsed": true
   },
   "outputs": [],
   "source": [
    "df_merged['EntrezGeneID_NCBI_O']=df_merged.EntrezGeneID_NCBI_O.apply(lambda x: str(x))\n",
    "df_merged['MIMNumber_O']=df_merged.MIMNumber_O.apply(lambda x: str(x))"
   ]
  },
  {
   "cell_type": "code",
   "execution_count": null,
   "metadata": {
    "collapsed": true
   },
   "outputs": [],
   "source": [
    "df_merged.head(200).to_csv('somaticFinal.csv')"
   ]
  },
  {
   "cell_type": "markdown",
   "metadata": {},
   "source": [
    "# Inserting Somatic Data into Cassandra Database\n",
    "The step is done for persistence and reliability among other benefits using a database cluster."
   ]
  },
  {
   "cell_type": "code",
   "execution_count": null,
   "metadata": {
    "collapsed": true
   },
   "outputs": [],
   "source": [
    "import itertools\n",
    "from multiprocessing import Pool\n",
    "import sys\n",
    "import time\n",
    "from cassandra.cluster import Cluster\n",
    "from cassandra.concurrent import execute_concurrent_with_args\n",
    "from cassandra.query import tuple_factory\n",
    "from cassandra.auth import PlainTextAuthProvider"
   ]
  },
  {
   "cell_type": "code",
   "execution_count": null,
   "metadata": {
    "collapsed": true
   },
   "outputs": [],
   "source": [
    "df_con=pd.read_csv('~/connection_point.csv',header=0) # this is done to make add basic level of security. \n",
    "#Please note that this file is not uploaded. It is only present in the Jupyter server. "
   ]
  },
  {
   "cell_type": "code",
   "execution_count": null,
   "metadata": {
    "collapsed": true
   },
   "outputs": [],
   "source": [
    "def _insertData(params):\n",
    "    cluster = Cluster(contact_points=[df_con.ip[0]], auth_provider = \\\n",
    "                      PlainTextAuthProvider(username=df_con.user[0], \\\n",
    "                                            password=df_con.token[0]))\n",
    "    session = cluster.connect()\n",
    "    session.set_keyspace('somatic')\n",
    "    session.row_factory = tuple_factory\n",
    "    prepared=session.prepare(\"INSERT INTO TABLE somatic.somaticMerged \\\n",
    "                             (id,UniprotID,GeneName,Entry_U,ProteinName_U, \\\n",
    "                             EnsemblGeneID_U,EnsemblGeneID_O,EntrezGeneID_NCBI_O, \\\n",
    "                             MIMNumber_O,MIMEntryType_O,NaturalVariant_U,Mutagenesis_U, \\\n",
    "                             AccessionNumber_C,MutationId_C,MutationDescription_C, \\\n",
    "                             MutationGenomePosition_C,entrydate) \\\n",
    "                             VALUES(?,?,?,?,?,?,?,?,?,?,?,?,?,?,?,?,?)\")            \n",
    "    \n",
    "    #using datastax driver for multiprocessing \n",
    "    execute_concurrent_with_args(session, prepared, params, concurrency=50) \n",
    "    return None\n",
    "\n",
    "def multiprocess(params):\n",
    "    pool = Pool(processes=2)\n",
    "    results = [pool.map(_insertData, (params[n:n+100],)) for n in range(0, len(params),100)]\n",
    "    return results\n",
    "\n",
    "if __name__ == \"__main__\":\n",
    "    parameters=[]\n",
    "    for index, row in enumerate(df_merged.values):        \n",
    "        (a,b,c,d,e,f,g,h,i,j,k,l,m,n,o,p,q) = row\n",
    "        row1=(a,b,c,d,e,f,g,h,i,j,k,l,m,n,o,p,q)\n",
    "        parameters.append(row1)           \n",
    "    a = multiprocess(parameters)"
   ]
  },
  {
   "cell_type": "code",
   "execution_count": null,
   "metadata": {
    "collapsed": true
   },
   "outputs": [],
   "source": [
    "Graph \n",
    "ML\n"
   ]
  }
 ],
 "metadata": {
  "kernelspec": {
   "display_name": "Python 3",
   "language": "python",
   "name": "python3"
  },
  "language_info": {
   "codemirror_mode": {
    "name": "ipython",
    "version": 3
   },
   "file_extension": ".py",
   "mimetype": "text/x-python",
   "name": "python",
   "nbconvert_exporter": "python",
   "pygments_lexer": "ipython3",
   "version": "3.6.1"
  }
 },
 "nbformat": 4,
 "nbformat_minor": 2
}
