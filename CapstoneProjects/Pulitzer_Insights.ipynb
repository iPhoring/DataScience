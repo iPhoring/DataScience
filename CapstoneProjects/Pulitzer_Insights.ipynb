{
 "cells": [
  {
   "cell_type": "code",
   "execution_count": 4,
   "metadata": {},
   "outputs": [],
   "source": [
    "import pandas as pd\n",
    "from google.cloud import storage\n",
    "\n",
    "import datetime as dt\n",
    "from datetime import datetime\n",
    "from pytz import timezone\n",
    "\n",
    "import uuid\n",
    "\n",
    "#Reading Google Buckets for files\n",
    "client = storage.Client()\n",
    "bucket=client.get_bucket('capstone_project_sr')\n",
    "blob = storage.Blob('pulitzer.csv',bucket)\n",
    "with open('pulitzer.csv', 'wb') as file_obj:\n",
    "    blob.download_to_file(file_obj)\n",
    "df=pd.read_csv('pulitzer.csv',sep=',',header=0, names=['Newspaper','DailyCirculation_2004',\\\n",
    "                                                       'DailyCirculation_2013',\\\n",
    "                                                       'ChangeInDailyCirculation_2004_2013',\\\n",
    "                                                       'PulitzerPrizeWinnersAndFinalists_1990_2003',\\\n",
    "                                                       'PulitzerPrizeWinnersAndFinalists_2004_2014',\\\n",
    "                                                       'PulitzerPrizeWinnersAndFinalists_1990_2014'])\n",
    "\n",
    "#Adding audit details\n",
    "tz = timezone('EST')\n",
    "datetime.now(tz) \n",
    "df['Entrydate'] = dt.datetime.now()\n",
    "\n",
    "df.insert(0,'Id',uuid.uuid4())\n",
    "df.Id= df.Id.apply(lambda x: uuid.uuid4())"
   ]
  },
  {
   "cell_type": "code",
   "execution_count": null,
   "metadata": {
    "collapsed": true
   },
   "outputs": [],
   "source": []
  },
  {
   "cell_type": "code",
   "execution_count": 8,
   "metadata": {},
   "outputs": [
    {
     "name": "stdout",
     "output_type": "stream",
     "text": [
      "<class 'pandas.core.frame.DataFrame'>\n",
      "RangeIndex: 50 entries, 0 to 49\n",
      "Data columns (total 9 columns):\n",
      "Id                                            50 non-null object\n",
      "Newspaper                                     50 non-null object\n",
      "DailyCirculation_2004                         50 non-null object\n",
      "DailyCirculation_2013                         50 non-null object\n",
      "ChangeInDailyCirculation_2004_2013            50 non-null object\n",
      "PulitzerPrizeWinnersAndFinalists_1990_2003    50 non-null int64\n",
      "PulitzerPrizeWinnersAndFinalists_2004_2014    50 non-null int64\n",
      "PulitzerPrizeWinnersAndFinalists_1990_2014    50 non-null int64\n",
      "Entrydate                                     50 non-null datetime64[ns]\n",
      "dtypes: datetime64[ns](1), int64(3), object(5)\n",
      "memory usage: 3.6+ KB\n"
     ]
    }
   ],
   "source": [
    "df.info()"
   ]
  },
  {
   "cell_type": "code",
   "execution_count": null,
   "metadata": {
    "collapsed": true
   },
   "outputs": [],
   "source": []
  },
  {
   "cell_type": "code",
   "execution_count": 9,
   "metadata": {},
   "outputs": [],
   "source": [
    "import itertools\n",
    "from multiprocessing import Pool\n",
    "import sys\n",
    "import time\n",
    "from cassandra.cluster import Cluster\n",
    "from cassandra.concurrent import execute_concurrent_with_args\n",
    "from cassandra.query import tuple_factory\n",
    "from cassandra.auth import PlainTextAuthProvider\n",
    "\n",
    "def _insertData(params):\n",
    "    #cluster = Cluster()\n",
    "    cluster = Cluster(contact_points=['10.128.0.4'], auth_provider = PlainTextAuthProvider(username='cuser', password='gYZ9u58vOMU='))\n",
    "    session = cluster.connect()\n",
    "    session.set_keyspace('somatic')\n",
    "    session.row_factory = tuple_factory\n",
    "    #prepared=session.prepare(\"INSERT INTO mytable (a, b) VALUES (?, ?)\")\n",
    "    prepared=session.prepare(\"INSERT INTO capstone.pulitzer \\\n",
    "                            (id,Newspaper,DailyCirculation_2004,DailyCirculation_2013, \\\n",
    "                             ChangeInDailyCirculation_2004_2013,PulitzerPrizeWinnersAndFinalists_1990_2003, \\\n",
    "                             PulitzerPrizeWinnersAndFinalists_2004_2014, \\\n",
    "                             PulitzerPrizeWinnersAndFinalists_1990_2014,Entrydate) \\\n",
    "                             VALUES (?,?,?,?,?,?,?,?,?)\")\n",
    "    \n",
    "    execute_concurrent_with_args(session, prepared, params, concurrency=50)\n",
    "    return None\n",
    "\n",
    "def multiprocess(params):\n",
    "    pool = Pool(processes=4)\n",
    "    results = [pool.map(_insertData, (params[n:n+100],)) for n in range(0, len(params),100)]\n",
    "    return results\n",
    "    \n",
    "\n",
    "if __name__ == \"__main__\":\n",
    "    parameters=[]\n",
    "    for index, row in enumerate(df.values):        \n",
    "        (a,b,c,d,e,f,g,h,i) = row\n",
    "        row1=(a,str(b),str(c),str(d),str(e),str(f),str(g),str(h),i)\n",
    "        parameters.append(row1)           \n",
    "    #parameters = [(x,x) for x in range(10000)]\n",
    "    a = multiprocess(parameters)"
   ]
  },
  {
   "cell_type": "code",
   "execution_count": null,
   "metadata": {
    "collapsed": true
   },
   "outputs": [],
   "source": []
  },
  {
   "cell_type": "code",
   "execution_count": null,
   "metadata": {
    "collapsed": true
   },
   "outputs": [],
   "source": []
  },
  {
   "cell_type": "code",
   "execution_count": null,
   "metadata": {
    "collapsed": true
   },
   "outputs": [],
   "source": []
  },
  {
   "cell_type": "code",
   "execution_count": null,
   "metadata": {
    "collapsed": true
   },
   "outputs": [],
   "source": []
  },
  {
   "cell_type": "code",
   "execution_count": null,
   "metadata": {
    "collapsed": true
   },
   "outputs": [],
   "source": []
  }
 ],
 "metadata": {
  "kernelspec": {
   "display_name": "Python 3",
   "language": "python",
   "name": "python3"
  },
  "language_info": {
   "codemirror_mode": {
    "name": "ipython",
    "version": 3
   },
   "file_extension": ".py",
   "mimetype": "text/x-python",
   "name": "python",
   "nbconvert_exporter": "python",
   "pygments_lexer": "ipython3",
   "version": "3.6.1"
  }
 },
 "nbformat": 4,
 "nbformat_minor": 2
}
