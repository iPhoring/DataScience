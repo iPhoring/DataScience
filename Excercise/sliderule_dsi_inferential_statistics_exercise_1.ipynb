{
 "cells": [
  {
   "cell_type": "markdown",
   "metadata": {},
   "source": [
    "# What is the True Normal Human Body Temperature? \n",
    "\n",
    "#### Background\n",
    "\n",
    "The mean normal body temperature was held to be 37$^{\\circ}$C or 98.6$^{\\circ}$F for more than 120 years since it was first conceptualized and reported by Carl Wunderlich in a famous 1868 book. But, is this value statistically correct?"
   ]
  },
  {
   "cell_type": "markdown",
   "metadata": {},
   "source": [
    "<h3>Exercises</h3>\n",
    "\n",
    "<p>In this exercise, you will analyze a dataset of human body temperatures and employ the concepts of hypothesis testing, confidence intervals, and statistical significance.</p>\n",
    "\n",
    "<p>Answer the following questions <b>in this notebook below and submit to your Github account</b>.</p> \n",
    "\n",
    "<ol>\n",
    "<li>  Is the distribution of body temperatures normal? \n",
    "    <ul>\n",
    "    <li> Although this is not a requirement for CLT to hold (read CLT carefully), it gives us some peace of mind that the population may also be normally distributed if we assume that this sample is representative of the population.\n",
    "    </ul>\n",
    "<li>  Is the sample size large? Are the observations independent?\n",
    "    <ul>\n",
    "    <li> Remember that this is a condition for the CLT, and hence the statistical tests we are using, to apply.\n",
    "    </ul>\n",
    "<li>  Is the true population mean really 98.6 degrees F?\n",
    "    <ul>\n",
    "    <li> Would you use a one-sample or two-sample test? Why?\n",
    "    <li> In this situation, is it appropriate to use the $t$ or $z$ statistic? \n",
    "    <li> Now try using the other test. How is the result be different? Why?\n",
    "    </ul>\n",
    "<li>  Draw a small sample of size 10 from the data and repeat both tests. \n",
    "    <ul>\n",
    "    <li> Which one is the correct one to use? \n",
    "    <li> What do you notice? What does this tell you about the difference in application of the $t$ and $z$ statistic?\n",
    "    </ul>\n",
    "<li>  At what temperature should we consider someone's temperature to be \"abnormal\"?\n",
    "    <ul>\n",
    "    <li> Start by computing the margin of error and confidence interval.\n",
    "    </ul>\n",
    "<li>  Is there a significant difference between males and females in normal temperature?\n",
    "    <ul>\n",
    "    <li> What test did you use and why?\n",
    "    <li> Write a story with your conclusion in the context of the original problem.\n",
    "    </ul>\n",
    "</ol>\n",
    "\n",
    "You can include written notes in notebook cells using Markdown: \n",
    "   - In the control panel at the top, choose Cell > Cell Type > Markdown\n",
    "   - Markdown syntax: http://nestacms.com/docs/creating-content/markdown-cheat-sheet\n",
    "\n",
    "#### Resources\n",
    "\n",
    "+ Information and data sources: http://www.amstat.org/publications/jse/datasets/normtemp.txt, http://www.amstat.org/publications/jse/jse_data_archive.htm\n",
    "+ Markdown syntax: http://nestacms.com/docs/creating-content/markdown-cheat-sheet\n",
    "\n",
    "****"
   ]
  },
  {
   "cell_type": "code",
   "execution_count": 1,
   "metadata": {
    "collapsed": true
   },
   "outputs": [],
   "source": [
    "import pandas as pd\n",
    "df = pd.read_csv('data/human_body_temperature.csv')"
   ]
  },
  {
   "cell_type": "code",
   "execution_count": 2,
   "metadata": {
    "collapsed": true
   },
   "outputs": [],
   "source": [
    "import matplotlib.pyplot as plt\n",
    "import seaborn as sns"
   ]
  },
  {
   "cell_type": "markdown",
   "metadata": {},
   "source": [
    "## Q1. Is the distribution of body temperatures normal?\n",
    "\n",
    "Eyeballing the dataset to check basic things like number,char and stats."
   ]
  },
  {
   "cell_type": "code",
   "execution_count": 3,
   "metadata": {},
   "outputs": [
    {
     "name": "stdout",
     "output_type": "stream",
     "text": [
      "     temperature gender  heart_rate\n",
      "79          97.6      M        74.0\n",
      "123         97.2      F        66.0\n",
      "128         97.9      M        72.0\n",
      "8           98.4      F        84.0\n",
      "106         97.0      M        80.0\n"
     ]
    },
    {
     "data": {
      "text/html": [
       "<div>\n",
       "<style>\n",
       "    .dataframe thead tr:only-child th {\n",
       "        text-align: right;\n",
       "    }\n",
       "\n",
       "    .dataframe thead th {\n",
       "        text-align: left;\n",
       "    }\n",
       "\n",
       "    .dataframe tbody tr th {\n",
       "        vertical-align: top;\n",
       "    }\n",
       "</style>\n",
       "<table border=\"1\" class=\"dataframe\">\n",
       "  <thead>\n",
       "    <tr style=\"text-align: right;\">\n",
       "      <th></th>\n",
       "      <th>temperature</th>\n",
       "      <th>heart_rate</th>\n",
       "    </tr>\n",
       "  </thead>\n",
       "  <tbody>\n",
       "    <tr>\n",
       "      <th>count</th>\n",
       "      <td>130.000000</td>\n",
       "      <td>130.000000</td>\n",
       "    </tr>\n",
       "    <tr>\n",
       "      <th>mean</th>\n",
       "      <td>98.249231</td>\n",
       "      <td>73.761538</td>\n",
       "    </tr>\n",
       "    <tr>\n",
       "      <th>std</th>\n",
       "      <td>0.733183</td>\n",
       "      <td>7.062077</td>\n",
       "    </tr>\n",
       "    <tr>\n",
       "      <th>min</th>\n",
       "      <td>96.300000</td>\n",
       "      <td>57.000000</td>\n",
       "    </tr>\n",
       "    <tr>\n",
       "      <th>25%</th>\n",
       "      <td>97.800000</td>\n",
       "      <td>69.000000</td>\n",
       "    </tr>\n",
       "    <tr>\n",
       "      <th>50%</th>\n",
       "      <td>98.300000</td>\n",
       "      <td>74.000000</td>\n",
       "    </tr>\n",
       "    <tr>\n",
       "      <th>75%</th>\n",
       "      <td>98.700000</td>\n",
       "      <td>79.000000</td>\n",
       "    </tr>\n",
       "    <tr>\n",
       "      <th>max</th>\n",
       "      <td>100.800000</td>\n",
       "      <td>89.000000</td>\n",
       "    </tr>\n",
       "  </tbody>\n",
       "</table>\n",
       "</div>"
      ],
      "text/plain": [
       "       temperature  heart_rate\n",
       "count   130.000000  130.000000\n",
       "mean     98.249231   73.761538\n",
       "std       0.733183    7.062077\n",
       "min      96.300000   57.000000\n",
       "25%      97.800000   69.000000\n",
       "50%      98.300000   74.000000\n",
       "75%      98.700000   79.000000\n",
       "max     100.800000   89.000000"
      ]
     },
     "execution_count": 3,
     "metadata": {},
     "output_type": "execute_result"
    }
   ],
   "source": [
    "from IPython.display import display\n",
    "print(df.sample(5))\n",
    "df.describe()"
   ]
  },
  {
   "cell_type": "markdown",
   "metadata": {},
   "source": [
    "Using graphical tools to check for Normal distribution."
   ]
  },
  {
   "cell_type": "markdown",
   "metadata": {},
   "source": [
    "Null Hypothesis($H_0$): The human body temperatures **follow Normal Distribution**.\n",
    "    \n",
    "Step 1: Drawing a box plot to check for symmetry. \n",
    "\n",
    "Step 2: Drawing a histrogram to check for Normality.\n",
    "\n",
    "Step 3: Overlaying a normal distribution to visually compare the distribution. \n",
    "\n",
    "Step 4: Comparing skewness, kurtosis, mean and median"
   ]
  },
  {
   "cell_type": "code",
   "execution_count": 4,
   "metadata": {},
   "outputs": [
    {
     "data": {
      "image/png": "[encoded data removed]",
      "text/plain": [
       "<matplotlib.figure.Figure at 0x7f833235f390>"
      ]
     },
     "metadata": {},
     "output_type": "display_data"
    }
   ],
   "source": [
    "fig, axes = plt.subplots(figsize=(3, 10))\n",
    "#fig.suptitle('Human Body Tempature', fontsize=13, fontweight='bold')\n",
    "axes.set_ylabel('Tempature in F')\n",
    "axes.set_title('Human Body Tempature', fontsize=13, fontweight='bold')\n",
    "\n",
    "_ = axes.boxplot(\n",
    "    [df.temperature],positions = [1],labels = ['Human'], \\\n",
    "    patch_artist = True, widths = 0.4,showfliers=True,sym='gx')\n",
    "\n",
    "for flier in _['fliers']:\n",
    "    flier.set(marker='o', color='#e7298a', alpha=.75)\n",
    "plt.show()"
   ]
  },
  {
   "cell_type": "markdown",
   "metadata": {},
   "source": [
    "Observation: The temperature distribution seems to be normal as we can see that the whiskers each is longer than the distance between 25th and median and the distance between median and 75th. "
   ]
  },
  {
   "cell_type": "markdown",
   "metadata": {},
   "source": [
    "Checking with Histrogram and pValue. We will overlay the normal distribution for visual clue."
   ]
  },
  {
   "cell_type": "code",
   "execution_count": 5,
   "metadata": {},
   "outputs": [
    {
     "data": {
      "image/png": "[encoded data removed]",
      "text/plain": [
       "<matplotlib.figure.Figure at 0x7f832ef98c50>"
      ]
     },
     "metadata": {},
     "output_type": "display_data"
    }
   ],
   "source": [
    "import numpy as np\n",
    "from scipy.stats import kurtosis,skew\n",
    "import scipy.stats as stats\n",
    "\n",
    "\n",
    "temp_sorted=sorted(df.temperature)\n",
    "hmean = np.mean(temp_sorted)\n",
    "hstd = np.std(temp_sorted)\n",
    "pdf = stats.norm.pdf(temp_sorted, hmean, hstd) # this is fitted \n",
    "plt.plot(temp_sorted, pdf,marker='.',color='red', alpha=0.5,label='Normal Distribution') \n",
    "# including temp_sorted here is crucial\n",
    "\n",
    "_=plt.hist(df.temperature, normed=True, bins=15,color = \"skyblue\", ec=\"skyblue\",lw=0,label='Sample Data') \n",
    "#adding the data graph\n",
    "_=plt.legend(loc='upper left')\n",
    "plt.show()"
   ]
  },
  {
   "cell_type": "code",
   "execution_count": 36,
   "metadata": {},
   "outputs": [
    {
     "name": "stdout",
     "output_type": "stream",
     "text": [
      "mean  :  98.24923076923078\n",
      "var   :  0.5334224852071\n",
      "skew  :  -0.004367976879081625\n",
      "kurt  :  0.7049597854114693\n",
      "Median:  98.3\n",
      "pValue:  0.2587\n"
     ]
    }
   ],
   "source": [
    "print(\"mean  : \", np.mean(df.temperature))\n",
    "print(\"var   : \", np.var(df.temperature))\n",
    "print(\"skew  : \",skew(df.temperature))\n",
    "print(\"kurt  : \",kurtosis(df.temperature))\n",
    "print('Median: ',np.median(df.temperature))\n",
    "print('pValue: ',round(stats.normaltest(df.temperature)[1],4)) # formating to percentage"
   ]
  },
  {
   "cell_type": "markdown",
   "metadata": {},
   "source": [
    "Based on above above analysis we can NOT REJECT the null hypothesis. That means that our dataset follows a normal distribution.\n",
    "\n",
    "Quick Note on pValue: A p-value is the probability that the results from the sample data occurred by chance. Low p-values are good; They indicate that the data did not occur by chance. For example, a p-value of .01 means there is only a 1% probability that the results from an experiment happened by chance. In most cases, a p-value of 0.05 (5%) is accepted to mean the data is valid."
   ]
  },
  {
   "cell_type": "markdown",
   "metadata": {},
   "source": [
    "## Q2 (a) Is the sample size large?"
   ]
  },
  {
   "cell_type": "markdown",
   "metadata": {},
   "source": [
    "We can use the below formula for checking the sample size. \n",
    "\n",
    "Let us assume the below stats for calculating the required sample size.\n",
    "\n",
    "a) Confidence Level at 95% \n",
    "\n",
    "b) Margin of Error at +-5 - we can only allow +-5 variation \n",
    "\n",
    "c) z score for 95% CL is 1.96 - we took this from z-score table \n",
    "    90% – Z Score = 1.645 \n",
    "    95% – Z Score = 1.96 \n",
    "    99% – Z Score = 2.576 \n",
    "\n",
    "d) stdDev of the population as 0.5 \n",
    "\n",
    "\n",
    "\\begin{equation}\n",
    "\\ Necessary\\,sample\\, size = \\frac{(Zscore)^2 \\ . \\ (stdDev) \\ . \\ (1-StdDev)}{(Margin\\, of\\, Error)^2}\\\\ \n",
    "\\end{equation}"
   ]
  },
  {
   "cell_type": "code",
   "execution_count": 7,
   "metadata": {
    "collapsed": true
   },
   "outputs": [],
   "source": [
    "def sample_size(zscore,stdDev,error):\n",
    "    import math\n",
    "    return math.ceil((zscore**2)*(stdDev)*(1-stdDev) / (error**2))"
   ]
  },
  {
   "cell_type": "markdown",
   "metadata": {},
   "source": [
    "We will check the sample size based on 95% CL 1st and repeat it for 90% and 99% CL."
   ]
  },
  {
   "cell_type": "code",
   "execution_count": 39,
   "metadata": {},
   "outputs": [
    {
     "name": "stdout",
     "output_type": "stream",
     "text": [
      "Given sample size: 130\n",
      "Required sample size with 90% CL +-10 Margin of error: 68\n",
      "Required sample size with 95% CL +-5 Margin of error: 385\n",
      "Required sample size with 99% CL +-1 Margin of error: 16590\n"
     ]
    }
   ],
   "source": [
    "required90 = sample_size(1.645,.5,0.1) # Checking with 90% CL\n",
    "required95 = sample_size(1.96,.5,0.05) # Checking with 95% CL\n",
    "required99 = sample_size(2.576,.5,0.01) # Checking with 95% CL\n",
    "\n",
    "given = len(df)\n",
    "\n",
    "print('Given sample size:', given)\n",
    "print('Required sample size with 90% CL +-10 Margin of error:',required90)\n",
    "print('Required sample size with 95% CL +-5 Margin of error:',required95)\n",
    "print('Required sample size with 99% CL +-1 Margin of error:',required99)"
   ]
  },
  {
   "cell_type": "markdown",
   "metadata": {},
   "source": [
    "We can see clearly see that we need 385 readings for 95% CL with +-5 error and 68 readings for 90% with +-10 error\n",
    "and our sample size is only 130. \n",
    "This tells us that our sample size is adquate but not sufficient. Given an opportunity, we should ask for 385 readings.\n",
    "\n",
    "For CLT, a size of 130 is good but CLT has it own limitations."
   ]
  },
  {
   "cell_type": "markdown",
   "metadata": {},
   "source": [
    "## Q2 (b) Are the observations independent?"
   ]
  },
  {
   "cell_type": "code",
   "execution_count": 9,
   "metadata": {},
   "outputs": [
    {
     "data": {
      "text/html": [
       "<div>\n",
       "<style>\n",
       "    .dataframe thead tr:only-child th {\n",
       "        text-align: right;\n",
       "    }\n",
       "\n",
       "    .dataframe thead th {\n",
       "        text-align: left;\n",
       "    }\n",
       "\n",
       "    .dataframe tbody tr th {\n",
       "        vertical-align: top;\n",
       "    }\n",
       "</style>\n",
       "<table border=\"1\" class=\"dataframe\">\n",
       "  <thead>\n",
       "    <tr style=\"text-align: right;\">\n",
       "      <th></th>\n",
       "      <th>temperature</th>\n",
       "      <th>heart_rate</th>\n",
       "    </tr>\n",
       "  </thead>\n",
       "  <tbody>\n",
       "    <tr>\n",
       "      <th>count</th>\n",
       "      <td>130.000000</td>\n",
       "      <td>130.000000</td>\n",
       "    </tr>\n",
       "    <tr>\n",
       "      <th>mean</th>\n",
       "      <td>98.249231</td>\n",
       "      <td>73.761538</td>\n",
       "    </tr>\n",
       "    <tr>\n",
       "      <th>std</th>\n",
       "      <td>0.733183</td>\n",
       "      <td>7.062077</td>\n",
       "    </tr>\n",
       "    <tr>\n",
       "      <th>min</th>\n",
       "      <td>96.300000</td>\n",
       "      <td>57.000000</td>\n",
       "    </tr>\n",
       "    <tr>\n",
       "      <th>25%</th>\n",
       "      <td>97.800000</td>\n",
       "      <td>69.000000</td>\n",
       "    </tr>\n",
       "    <tr>\n",
       "      <th>50%</th>\n",
       "      <td>98.300000</td>\n",
       "      <td>74.000000</td>\n",
       "    </tr>\n",
       "    <tr>\n",
       "      <th>75%</th>\n",
       "      <td>98.700000</td>\n",
       "      <td>79.000000</td>\n",
       "    </tr>\n",
       "    <tr>\n",
       "      <th>max</th>\n",
       "      <td>100.800000</td>\n",
       "      <td>89.000000</td>\n",
       "    </tr>\n",
       "  </tbody>\n",
       "</table>\n",
       "</div>"
      ],
      "text/plain": [
       "       temperature  heart_rate\n",
       "count   130.000000  130.000000\n",
       "mean     98.249231   73.761538\n",
       "std       0.733183    7.062077\n",
       "min      96.300000   57.000000\n",
       "25%      97.800000   69.000000\n",
       "50%      98.300000   74.000000\n",
       "75%      98.700000   79.000000\n",
       "max     100.800000   89.000000"
      ]
     },
     "execution_count": 9,
     "metadata": {},
     "output_type": "execute_result"
    }
   ],
   "source": [
    "df.describe() # we will start with basic stats."
   ]
  },
  {
   "cell_type": "code",
   "execution_count": 10,
   "metadata": {},
   "outputs": [
    {
     "data": {
      "image/png": "[encoded data removed]",
      "text/plain": [
       "<matplotlib.figure.Figure at 0x7f832efa1278>"
      ]
     },
     "metadata": {},
     "output_type": "display_data"
    }
   ],
   "source": [
    "sns.jointplot(x=\"temperature\", y=\"heart_rate\", data=df, kind=\"reg\")\n",
    "plt.show()"
   ]
  },
  {
   "cell_type": "markdown",
   "metadata": {},
   "source": [
    "Using seaborn joint plot with regression, we can say that our data do not follow a +ve or -ve trend.\n",
    "\n",
    "We can conclude from the figure above that the observations look independent but we know for the fact (Biologically) that heart rate and body tempature are related at some point. We need more data to establish the correlation between body temperature and heart rate."
   ]
  },
  {
   "cell_type": "markdown",
   "metadata": {},
   "source": [
    "# Q3. Is the true population mean really 98.6 degrees F? <br>\n",
    "Would you use a one-sample or two-sample test? Why? <br>\n",
    "In this situation, is it appropriate to use the  t  or  z  statistic? <br>\n",
    "Now try using the other test. How is the result be different? Why? "
   ]
  },
  {
   "cell_type": "markdown",
   "metadata": {},
   "source": [
    "We will use one-sample t-test as we are assuming that population mean is 98.6F. \n",
    "We only have to check if there is any sigficant difference between 98.6 degree F and the mean of the dataset."
   ]
  },
  {
   "cell_type": "markdown",
   "metadata": {},
   "source": [
    "$H_0$:Population mean is equal to 98.6 degreesF. \n",
    "$H_1$:Population mean is not equal to 98.6 degreesF.\n",
    "\n",
    "\n",
    "Quick Note on pValue: A p-value is the probability that the results from the sample data occurred by chance. Low p-values are good; They indicate that the data did not occur by chance. For example, a p-value of .01 means there is only a 1% probability that the results from an experiment happened by chance. In most cases, a p-value of 0.05 (5%) is accepted to mean the data is valid."
   ]
  },
  {
   "cell_type": "code",
   "execution_count": 11,
   "metadata": {},
   "outputs": [
    {
     "data": {
      "text/html": [
       "<div>\n",
       "<style>\n",
       "    .dataframe thead tr:only-child th {\n",
       "        text-align: right;\n",
       "    }\n",
       "\n",
       "    .dataframe thead th {\n",
       "        text-align: left;\n",
       "    }\n",
       "\n",
       "    .dataframe tbody tr th {\n",
       "        vertical-align: top;\n",
       "    }\n",
       "</style>\n",
       "<table border=\"1\" class=\"dataframe\">\n",
       "  <thead>\n",
       "    <tr style=\"text-align: right;\">\n",
       "      <th></th>\n",
       "      <th>temperature</th>\n",
       "      <th>heart_rate</th>\n",
       "    </tr>\n",
       "  </thead>\n",
       "  <tbody>\n",
       "    <tr>\n",
       "      <th>count</th>\n",
       "      <td>130.000000</td>\n",
       "      <td>130.000000</td>\n",
       "    </tr>\n",
       "    <tr>\n",
       "      <th>mean</th>\n",
       "      <td>98.249231</td>\n",
       "      <td>73.761538</td>\n",
       "    </tr>\n",
       "    <tr>\n",
       "      <th>std</th>\n",
       "      <td>0.733183</td>\n",
       "      <td>7.062077</td>\n",
       "    </tr>\n",
       "    <tr>\n",
       "      <th>min</th>\n",
       "      <td>96.300000</td>\n",
       "      <td>57.000000</td>\n",
       "    </tr>\n",
       "    <tr>\n",
       "      <th>25%</th>\n",
       "      <td>97.800000</td>\n",
       "      <td>69.000000</td>\n",
       "    </tr>\n",
       "    <tr>\n",
       "      <th>50%</th>\n",
       "      <td>98.300000</td>\n",
       "      <td>74.000000</td>\n",
       "    </tr>\n",
       "    <tr>\n",
       "      <th>75%</th>\n",
       "      <td>98.700000</td>\n",
       "      <td>79.000000</td>\n",
       "    </tr>\n",
       "    <tr>\n",
       "      <th>max</th>\n",
       "      <td>100.800000</td>\n",
       "      <td>89.000000</td>\n",
       "    </tr>\n",
       "  </tbody>\n",
       "</table>\n",
       "</div>"
      ],
      "text/plain": [
       "       temperature  heart_rate\n",
       "count   130.000000  130.000000\n",
       "mean     98.249231   73.761538\n",
       "std       0.733183    7.062077\n",
       "min      96.300000   57.000000\n",
       "25%      97.800000   69.000000\n",
       "50%      98.300000   74.000000\n",
       "75%      98.700000   79.000000\n",
       "max     100.800000   89.000000"
      ]
     },
     "execution_count": 11,
     "metadata": {},
     "output_type": "execute_result"
    }
   ],
   "source": [
    "df.describe()"
   ]
  },
  {
   "cell_type": "code",
   "execution_count": 12,
   "metadata": {},
   "outputs": [
    {
     "data": {
      "text/plain": [
       "Ttest_1sampResult(statistic=-5.4548232923645195, pvalue=2.4106320415561276e-07)"
      ]
     },
     "execution_count": 12,
     "metadata": {},
     "output_type": "execute_result"
    }
   ],
   "source": [
    "stats.ttest_1samp(df['temperature'], popmean=98.6)"
   ]
  },
  {
   "cell_type": "markdown",
   "metadata": {},
   "source": [
    "Our pValue is less than 0.01 means there is only a 1% probability that the results happened by chance. \n",
    "We can safely REJECT our $H_0$ which means the population mean is NOT 98.6"
   ]
  },
  {
   "cell_type": "markdown",
   "metadata": {},
   "source": [
    "# Performing z-statistic and t-statistic"
   ]
  },
  {
   "cell_type": "markdown",
   "metadata": {},
   "source": [
    "## t-statistic is calculated as per the below formula\n",
    "\n",
    "\\begin{equation}\n",
    "\\ t = \\frac{\\bar{\\mathtt{x}} -\\mu_0}{\\frac{s}{\\sqrt{n}}}\\\\ \n",
    "\\end{equation}\n",
    "\n",
    "\\begin{align}\n",
    "\\bar{\\mathtt{x}} = sample\\,mean\\\\\n",
    "\\mu_0 = hypothesized \\, population\\,mean\\\\ \n",
    "\\ s = sample \\,standard \\, deviation\\\\ \n",
    "\\ n = sample \\,size \\\\\n",
    "\\end{align}\n",
    "\n",
    "Quick Note: for t stats the sample size should be (≥ 30). \n"
   ]
  },
  {
   "cell_type": "markdown",
   "metadata": {},
   "source": [
    "Getting basic stats and a function to calculate t and z stats. "
   ]
  },
  {
   "cell_type": "code",
   "execution_count": 13,
   "metadata": {
    "collapsed": true
   },
   "outputs": [],
   "source": [
    "sample_mean=np.mean(df.temperature)\n",
    "sample_stdDev=np.std(df.temperature) # This is stdDev of the sample. \n",
    "                              #We assumed stdDev of the population as 0.5 for checking sample size.\n",
    "hpothesized_popmean=98.6 # we will use the Q2 value\n",
    "sample_var=np.var(df.temperature)\n",
    "sample_n=len(df.temperature)\n",
    "\n",
    "def tzstats(mean,popmean,stdDev,sampleSize):\n",
    "    return ((mean-popmean)/(stdDev/(sampleSize**0.5)))"
   ]
  },
  {
   "cell_type": "markdown",
   "metadata": {},
   "source": [
    "Calculating t-stats using self written function. "
   ]
  },
  {
   "cell_type": "code",
   "execution_count": 14,
   "metadata": {},
   "outputs": [
    {
     "name": "stdout",
     "output_type": "stream",
     "text": [
      "t value(Using custom function): -5.475925202078116\n"
     ]
    }
   ],
   "source": [
    "t_value_c=tzstats(sample_mean,hpothesized_popmean,sample_stdDev,len(df)) # using our own function\n",
    "print('t value(Using custom function):',t_value_c)"
   ]
  },
  {
   "cell_type": "code",
   "execution_count": 15,
   "metadata": {},
   "outputs": [
    {
     "name": "stdout",
     "output_type": "stream",
     "text": [
      "t-statistic (custom function) = -5.476 p_value(custom function) = 0.000000219\n"
     ]
    }
   ],
   "source": [
    "p_value_c = stats.t.sf(np.abs(t_value_c), sample_n-1)*2  # two-sided\n",
    "print('t-statistic (custom function) = %6.3f p_value(custom function) = %6.9f' % (t_value_c, p_value_c))"
   ]
  },
  {
   "cell_type": "markdown",
   "metadata": {},
   "source": [
    "Calculating t-stats using built-in functions. "
   ]
  },
  {
   "cell_type": "code",
   "execution_count": 16,
   "metadata": {},
   "outputs": [
    {
     "name": "stdout",
     "output_type": "stream",
     "text": [
      "t-statistic(using built in function) = -5.476 p_value(using built in function) = 0.000000219\n"
     ]
    }
   ],
   "source": [
    "t_value_b = (sample_mean-hpothesized_popmean)/np.sqrt(sample_var/float(sample_n))  # t-statistic for mean\n",
    "p_value_b = stats.t.sf(np.abs(t_value_b), sample_n-1)*2  # two-sided\n",
    "print('t-statistic(using built in function) = %6.3f p_value(using built in function) = %6.9f' % (t_value_b, p_value_b))"
   ]
  },
  {
   "cell_type": "markdown",
   "metadata": {},
   "source": [
    "Our pValue is <0.05 , therefore we can reject the null hypothesis($H_0$:Population mean is equal to $98.6^oF$) "
   ]
  },
  {
   "cell_type": "markdown",
   "metadata": {},
   "source": [
    "## z statistic is calculated as per the below formula\n",
    "\n",
    "\\begin{equation}\n",
    "\\ z = \\frac{\\bar{\\mathtt{x}} -\\mu_0}{\\frac{\\sigma}{\\sqrt{n}}}\\\\ \n",
    "\\end{equation}\n",
    "\n",
    "\\begin{align}\n",
    "\\bar{\\mathtt{x}} = sample\\,mean\\\\\n",
    "\\mu_0 = hypothesized\\, population\\,mean\\\\ \n",
    "\\sigma = population \\,standard \\, deviation\\\\ \n",
    "\\ n = sample \\,size \\\\\n",
    "\\end{align}\n",
    "\n",
    "We assumed stdDev of the population as 0.5 for checking sample size.\n",
    "\n",
    "Quick Note: The formula for computing a z test statistic for one sample mean is identical to that of computing a t test statistic for one sample mean, except now the population standard deviation is known and can be used in computing the standard error."
   ]
  },
  {
   "cell_type": "markdown",
   "metadata": {},
   "source": [
    "Calculating z-stats using self written function."
   ]
  },
  {
   "cell_type": "code",
   "execution_count": 17,
   "metadata": {},
   "outputs": [
    {
     "name": "stdout",
     "output_type": "stream",
     "text": [
      "z value(Using custom function): -7.998769136079786\n"
     ]
    }
   ],
   "source": [
    "popstdDev=0.5 #We assumed stdDev of the population as 0.5 for checking sample size.\n",
    "z_value_c=tzstats(sample_mean,hpothesized_popmean,popstdDev,len(df)) # using our own function\n",
    "print('z value(Using custom function):',z_value_c)"
   ]
  },
  {
   "cell_type": "code",
   "execution_count": 18,
   "metadata": {},
   "outputs": [
    {
     "name": "stdout",
     "output_type": "stream",
     "text": [
      "p value using cdf: 1.25669086414e-15\n",
      "p value using sf: 1.25669086414e-15\n"
     ]
    }
   ],
   "source": [
    "p_value_z_cdf=stats.norm.cdf(z_value_c) * 2 # two sided\n",
    "p_value_z_sf=stats.norm.sf(np.abs(z_value_c)) * 2 # two sided\n",
    "print('p value using cdf:', p_value_z_cdf)\n",
    "print('p value using sf:',p_value_z_sf )"
   ]
  },
  {
   "cell_type": "markdown",
   "metadata": {},
   "source": [
    "Again, our pValue is <0.05 , therefore we can reject the null hypothesis($H_0$ :Population mean is equal to $98.6^oF$)"
   ]
  },
  {
   "cell_type": "markdown",
   "metadata": {},
   "source": [
    "# Q4. Draw a small sample of size 10 from the data and repeat both tests.\n",
    "\n",
    "Which one is the correct one to use? <br>\n",
    "What do you notice? <br>\n",
    "What does this tell you about the difference in application of the  t  and  z  statistic?"
   ]
  },
  {
   "cell_type": "markdown",
   "metadata": {},
   "source": [
    "Sampling the dataset."
   ]
  },
  {
   "cell_type": "code",
   "execution_count": 20,
   "metadata": {},
   "outputs": [],
   "source": [
    "r=np.random.permutation(len(df))[:10]\n",
    "sampled_df = df.ix[r]"
   ]
  },
  {
   "cell_type": "markdown",
   "metadata": {},
   "source": [
    "Now eyeballing a subset of size 10 to check basic statistics and data "
   ]
  },
  {
   "cell_type": "code",
   "execution_count": 21,
   "metadata": {},
   "outputs": [
    {
     "name": "stdout",
     "output_type": "stream",
     "text": [
      "     temperature gender  heart_rate\n",
      "56          98.8      F        70.0\n",
      "59          97.6      M        73.0\n",
      "61          98.4      M        84.0\n",
      "122         99.0      F        81.0\n",
      "128         97.9      M        72.0\n",
      "74          99.0      M        75.0\n",
      "91         100.0      F        78.0\n",
      "37          98.3      M        72.0\n",
      "28          98.4      F        73.0\n",
      "83          99.2      F        77.0\n"
     ]
    },
    {
     "data": {
      "text/html": [
       "<div>\n",
       "<style>\n",
       "    .dataframe thead tr:only-child th {\n",
       "        text-align: right;\n",
       "    }\n",
       "\n",
       "    .dataframe thead th {\n",
       "        text-align: left;\n",
       "    }\n",
       "\n",
       "    .dataframe tbody tr th {\n",
       "        vertical-align: top;\n",
       "    }\n",
       "</style>\n",
       "<table border=\"1\" class=\"dataframe\">\n",
       "  <thead>\n",
       "    <tr style=\"text-align: right;\">\n",
       "      <th></th>\n",
       "      <th>temperature</th>\n",
       "      <th>heart_rate</th>\n",
       "    </tr>\n",
       "  </thead>\n",
       "  <tbody>\n",
       "    <tr>\n",
       "      <th>count</th>\n",
       "      <td>10.000000</td>\n",
       "      <td>10.000000</td>\n",
       "    </tr>\n",
       "    <tr>\n",
       "      <th>mean</th>\n",
       "      <td>98.660000</td>\n",
       "      <td>75.500000</td>\n",
       "    </tr>\n",
       "    <tr>\n",
       "      <th>std</th>\n",
       "      <td>0.691536</td>\n",
       "      <td>4.453463</td>\n",
       "    </tr>\n",
       "    <tr>\n",
       "      <th>min</th>\n",
       "      <td>97.600000</td>\n",
       "      <td>70.000000</td>\n",
       "    </tr>\n",
       "    <tr>\n",
       "      <th>25%</th>\n",
       "      <td>98.325000</td>\n",
       "      <td>72.250000</td>\n",
       "    </tr>\n",
       "    <tr>\n",
       "      <th>50%</th>\n",
       "      <td>98.600000</td>\n",
       "      <td>74.000000</td>\n",
       "    </tr>\n",
       "    <tr>\n",
       "      <th>75%</th>\n",
       "      <td>99.000000</td>\n",
       "      <td>77.750000</td>\n",
       "    </tr>\n",
       "    <tr>\n",
       "      <th>max</th>\n",
       "      <td>100.000000</td>\n",
       "      <td>84.000000</td>\n",
       "    </tr>\n",
       "  </tbody>\n",
       "</table>\n",
       "</div>"
      ],
      "text/plain": [
       "       temperature  heart_rate\n",
       "count    10.000000   10.000000\n",
       "mean     98.660000   75.500000\n",
       "std       0.691536    4.453463\n",
       "min      97.600000   70.000000\n",
       "25%      98.325000   72.250000\n",
       "50%      98.600000   74.000000\n",
       "75%      99.000000   77.750000\n",
       "max     100.000000   84.000000"
      ]
     },
     "execution_count": 21,
     "metadata": {},
     "output_type": "execute_result"
    }
   ],
   "source": [
    "print(sampled_df.sample(10))\n",
    "sampled_df.describe()"
   ]
  },
  {
   "cell_type": "markdown",
   "metadata": {},
   "source": [
    "Setting basic stats to calculate t and z stats. "
   ]
  },
  {
   "cell_type": "code",
   "execution_count": 22,
   "metadata": {
    "collapsed": true
   },
   "outputs": [],
   "source": [
    "sample10_mean=np.mean(sampled_df.temperature)\n",
    "sample10_stdDev=np.std(sampled_df.temperature) # This is stdDev of the sample. \n",
    "                              #We assumed stdDev of the population as 0.5 for checking sample size.\n",
    "hpothesized_popmean=98.6 # we will use the Q2 value\n",
    "sample10_var=np.var(sampled_df.temperature)\n",
    "sample10_n=len(sampled_df.temperature)"
   ]
  },
  {
   "cell_type": "markdown",
   "metadata": {},
   "source": [
    "## Calculating t-stats using self written function."
   ]
  },
  {
   "cell_type": "code",
   "execution_count": 23,
   "metadata": {},
   "outputs": [
    {
     "name": "stdout",
     "output_type": "stream",
     "text": [
      "t value(Using custom function): 0.28921120772989806\n"
     ]
    }
   ],
   "source": [
    "sample10t_value_c=tzstats(sample10_mean,hpothesized_popmean,sample10_stdDev,sample10_n) # using our own function\n",
    "print('t value(Using custom function):',sample10t_value_c)"
   ]
  },
  {
   "cell_type": "code",
   "execution_count": 24,
   "metadata": {},
   "outputs": [
    {
     "name": "stdout",
     "output_type": "stream",
     "text": [
      "t-statistic (custom function) =  0.289 p_value(custom function) = 0.778971222\n"
     ]
    }
   ],
   "source": [
    "sample10p_value_c = stats.t.sf(np.abs(sample10t_value_c), sample10_n-1)*2  # two-sided\n",
    "print('t-statistic (custom function) = %6.3f p_value(custom function) = %6.9f' % \\\n",
    "      (sample10t_value_c, sample10p_value_c))"
   ]
  },
  {
   "cell_type": "markdown",
   "metadata": {},
   "source": [
    "Calculating t-stats using built-in functions."
   ]
  },
  {
   "cell_type": "code",
   "execution_count": 25,
   "metadata": {},
   "outputs": [
    {
     "name": "stdout",
     "output_type": "stream",
     "text": [
      "t-statistic(using built in function) =  0.289 p_value(using built in function) = 0.778971222\n"
     ]
    }
   ],
   "source": [
    "sample10t_value_b = (sample10_mean-hpothesized_popmean)/np.sqrt(sample10_var/float(sample10_n))  # t-statistic for mean\n",
    "sample10p_value_b = stats.t.sf(np.abs(sample10t_value_b), sample10_n-1)*2  # two-sided\n",
    "print('t-statistic(using built in function) = %6.3f p_value(using built in function) = %6.9f' % \\\n",
    "      (sample10t_value_b, sample10p_value_b))"
   ]
  },
  {
   "cell_type": "markdown",
   "metadata": {},
   "source": [
    "Our pValue is <0.05 , therefore we can reject the null hypothesis($H_0$ :Population mean is equal to $98.6^oF$)."
   ]
  },
  {
   "cell_type": "markdown",
   "metadata": {},
   "source": [
    "## Calculating z-stats using self written function."
   ]
  },
  {
   "cell_type": "code",
   "execution_count": 26,
   "metadata": {},
   "outputs": [
    {
     "name": "stdout",
     "output_type": "stream",
     "text": [
      "z value(Using custom function): 0.3794733192202199\n"
     ]
    }
   ],
   "source": [
    "popstdDev=0.5 #We assumed stdDev of the population as 0.5 for checking sample size.\n",
    "sample10z_value_c=tzstats(sample10_mean,hpothesized_popmean,popstdDev,sample10_n) # using our own function\n",
    "print('z value(Using custom function):',sample10z_value_c)"
   ]
  },
  {
   "cell_type": "code",
   "execution_count": 27,
   "metadata": {},
   "outputs": [
    {
     "name": "stdout",
     "output_type": "stream",
     "text": [
      "p value using cdf: 1.29566358651\n",
      "p value using sf: 0.704336413488\n"
     ]
    }
   ],
   "source": [
    "sample10p_value_z_cdf=stats.norm.cdf(sample10z_value_c) * 2 # two sided\n",
    "sample10p_value_z_sf=stats.norm.sf(np.abs(sample10z_value_c)) * 2 # two sided\n",
    "print('p value using cdf:', sample10p_value_z_cdf)\n",
    "print('p value using sf:',sample10p_value_z_sf )"
   ]
  },
  {
   "cell_type": "markdown",
   "metadata": {},
   "source": [
    "Again, our pValue is <0.05 , therefore we can reject the null hypothesis($H_0$  :Population mean is equal to $98.6^oF$).\n",
    "\n",
    "t stats suggests a better probability than z stats, which we know is not the case when we run the tests on a larger sample set. We can conclude that t test is not good for sample size smaller than 30. "
   ]
  },
  {
   "cell_type": "markdown",
   "metadata": {},
   "source": [
    "# Q5. At what temperature should we consider someone's temperature to be \"abnormal\"?\n",
    "\n",
    "Start by computing the margin of error and confidence interval."
   ]
  },
  {
   "cell_type": "markdown",
   "metadata": {},
   "source": [
    "Describing the basic stats"
   ]
  },
  {
   "cell_type": "code",
   "execution_count": 28,
   "metadata": {
    "collapsed": true
   },
   "outputs": [],
   "source": [
    "sample_n, (sample_min, sample_max), sample_mean, sample_var, sample_skew, sample_kurtosis = \\\n",
    "stats.describe(df.temperature)"
   ]
  },
  {
   "cell_type": "code",
   "execution_count": null,
   "metadata": {},
   "outputs": [],
   "source": [
    "print(sample_n, (sample_min, sample_max), sample_mean, sample_var, sample_skew, sample_kurtosis)"
   ]
  },
  {
   "cell_type": "markdown",
   "metadata": {},
   "source": [
    "Using built in function for calculating Confidence interval considering Normal distribution.\n",
    "\n",
    "We will use 95% Confidence for calculating confidence interval"
   ]
  },
  {
   "cell_type": "code",
   "execution_count": 29,
   "metadata": {},
   "outputs": [],
   "source": [
    "CI_low,CI_High=stats.norm.interval(0.95, loc=df.temperature.mean(), scale=df.temperature.std())"
   ]
  },
  {
   "cell_type": "code",
   "execution_count": 30,
   "metadata": {},
   "outputs": [
    {
     "name": "stdout",
     "output_type": "stream",
     "text": [
      "Margin of error based on 95% Confidence Level: 1.43701258383\n"
     ]
    }
   ],
   "source": [
    "margin_of_error = sample_mean - CI_low\n",
    "print('Margin of error based on 95% Confidence Level:',margin_of_error)"
   ]
  },
  {
   "cell_type": "markdown",
   "metadata": {},
   "source": [
    "We can see that our assumption about the margin of error of +-5 was not correct. The above error margin tells us that our \n",
    "body temperature is +- 1.43 F of sample mean(98.24F). Based on the sample data the temp range is between 96.81 to 99.68 degrees F.\n",
    "\n",
    "All readings outside the above range is Abnormal considering the sample. \n",
    "\n",
    "**Please note that this is not true Biologically. We will need more samples to  infer human body temperature correctly.**"
   ]
  },
  {
   "cell_type": "markdown",
   "metadata": {},
   "source": [
    "## Q6. Is there a significant difference between males and females in normal temperature?\n",
    "\n",
    "What test did you use and why?\n",
    "\n",
    "Write a story with your conclusion in the context of the original problem."
   ]
  },
  {
   "cell_type": "markdown",
   "metadata": {},
   "source": [
    "We can use 2 sample t test to check if there is any significant difference between males and females in normal temperature.\n",
    "\n",
    "$H_0$: Males and females have the same body temperature. \n",
    "\n",
    "$H_1$: Males and females have difference body temperatures."
   ]
  },
  {
   "cell_type": "markdown",
   "metadata": {},
   "source": [
    "Creating the male and female samples."
   ]
  },
  {
   "cell_type": "code",
   "execution_count": 31,
   "metadata": {},
   "outputs": [],
   "source": [
    "male_temp=df[df.gender=='M']\n",
    "female_temp=df[df.gender=='F']"
   ]
  },
  {
   "cell_type": "markdown",
   "metadata": {},
   "source": [
    "### Eyeballing Male dataset for basic stats and sample data."
   ]
  },
  {
   "cell_type": "code",
   "execution_count": 32,
   "metadata": {
    "scrolled": true
   },
   "outputs": [
    {
     "name": "stdout",
     "output_type": "stream",
     "text": [
      "      gender  heart_rate  temperature\n",
      "34         M   63.000000    99.300000\n",
      "47         M   68.000000    97.400000\n",
      "82         M   70.000000    97.500000\n",
      "5          M   83.000000    99.200000\n",
      "24         M   65.000000    97.800000\n",
      "count      M   65.000000    65.000000\n",
      "mean       M   73.369231    98.104615\n",
      "std        M    5.875184     0.698756\n",
      "min        M   58.000000    96.300000\n",
      "25%        M   70.000000    97.600000\n",
      "50%        M   73.000000    98.100000\n",
      "75%        M   78.000000    98.600000\n",
      "max        M   86.000000    99.500000\n"
     ]
    }
   ],
   "source": [
    "print(pd.concat([male_temp.sample(5),male_temp.describe()]).fillna('M'))"
   ]
  },
  {
   "cell_type": "code",
   "execution_count": 33,
   "metadata": {},
   "outputs": [
    {
     "name": "stdout",
     "output_type": "stream",
     "text": [
      "      gender  heart_rate  temperature\n",
      "20         F   78.000000    98.300000\n",
      "16         F   79.000000    98.300000\n",
      "11         F   62.000000    96.700000\n",
      "58         F   65.000000    98.200000\n",
      "119        F   74.000000    98.400000\n",
      "count      F   65.000000    65.000000\n",
      "mean       F   74.153846    98.393846\n",
      "std        F    8.105227     0.743488\n",
      "min        F   57.000000    96.400000\n",
      "25%        F   68.000000    98.000000\n",
      "50%        F   76.000000    98.400000\n",
      "75%        F   80.000000    98.800000\n",
      "max        F   89.000000   100.800000\n",
      "Variances:\n",
      " temperature    -0.063522\n",
      "heart_rate    -30.697278\n",
      "dtype: float64\n"
     ]
    }
   ],
   "source": [
    "print(pd.concat([female_temp.sample(5),female_temp.describe()]).fillna('F'))\n",
    "print('Variances:\\n',np.var(male_temp)-np.var(female_temp))"
   ]
  },
  {
   "cell_type": "markdown",
   "metadata": {},
   "source": [
    "Running the 2 sample t-test"
   ]
  },
  {
   "cell_type": "code",
   "execution_count": 34,
   "metadata": {},
   "outputs": [
    {
     "name": "stdout",
     "output_type": "stream",
     "text": [
      "Pvalue: 0.02\n"
     ]
    }
   ],
   "source": [
    "print('Pvalue:',round(stats.ttest_ind(male_temp.temperature,female_temp.temperature)[1],2))"
   ]
  },
  {
   "cell_type": "markdown",
   "metadata": {},
   "source": [
    "We can see that our p value is <0.05. This tells us that we can REJECT our $H_0$"
   ]
  },
  {
   "cell_type": "code",
   "execution_count": 58,
   "metadata": {
    "scrolled": true
   },
   "outputs": [
    {
     "data": {
      "image/png": "[encoded data removed]",
      "text/plain": [
       "<matplotlib.figure.Figure at 0x7f832c9530b8>"
      ]
     },
     "metadata": {},
     "output_type": "display_data"
    }
   ],
   "source": [
    "import numpy as np\n",
    "from scipy.stats import kurtosis,skew\n",
    "import scipy.stats as stats\n",
    "\n",
    "#ploting male data\n",
    "temp_sorted_m=sorted(male_temp.temperature)\n",
    "hmean_m = np.mean(temp_sorted_m)\n",
    "hstd_m = np.std(temp_sorted_m)\n",
    "pdf = stats.norm.pdf(temp_sorted_m, hmean_m, hstd_m) # this is fitted \n",
    "plt.plot(temp_sorted_m, pdf,marker='.',color='orange',alpha=.5,label='Male Temperature') \n",
    "# including temp_sorted_m here is crucial\n",
    "\n",
    "#ploting female data\n",
    "temp_sorted_f=sorted(female_temp.temperature)\n",
    "hmean_f = np.mean(temp_sorted_f)\n",
    "hstd_f = np.std(temp_sorted_f)\n",
    "pdf = stats.norm.pdf(temp_sorted_f, hmean_f, hstd_f) # this is fitted \n",
    "plt.plot(temp_sorted_f, pdf,marker='.',color='green',alpha=0.5,label='Female Temperature') \n",
    "# including temp_sorted_f here is crucial\n",
    "\n",
    "\n",
    "#ploting sample data\n",
    "temp_sorted=sorted(df.temperature)\n",
    "hmean = np.mean(temp_sorted)\n",
    "hstd = np.std(temp_sorted)\n",
    "pdf = stats.norm.pdf(temp_sorted, hmean, hstd) # this is fitted \n",
    "plt.plot(temp_sorted, pdf,marker='.',color='red',alpha=0.5,label='Fitted Normal Distribution') \n",
    "\n",
    "\n",
    "_=plt.hist(df.temperature, normed=True, bins=15,color = \"skyblue\", ec=\"skyblue\",lw=0,label='Sample Data') \n",
    "#adding the data graph\n",
    "\n",
    "_=plt.vlines(hmean_f,0,0.6, color='green',label='Mean of Female Temp')\n",
    "_=plt.vlines(hmean_m,0,0.6, color='orange',label='Mean of Male Temp')\n",
    "_=plt.legend(loc='upper right')\n",
    "\n",
    "plt.show()"
   ]
  },
  {
   "cell_type": "markdown",
   "metadata": {},
   "source": [
    "# Conclusion:\n",
    "\n",
    "The mean normal body temperature of $37^oC$ or $98.6^oF$  as reported by Carl Wunderlich is a good estimate. But this reading is not supported statiscally by our sample data. We need more samples grouped by demographics and category to  statistically conclude that our body temperature is $98.6^oF$.\n",
    "Based on the above analysis of the given sample data, the margin of error lies between $+_-1.43^oF$ of the sample mean $98.24^oF$ which means that the normal body temperature ranges from $96.81^oF$ to $99.68^oF$. Anything beyond this range can be considered as not normal.\n",
    "\n"
   ]
  },
  {
   "cell_type": "code",
   "execution_count": null,
   "metadata": {
    "collapsed": true
   },
   "outputs": [],
   "source": []
  }
 ],
 "metadata": {
  "kernelspec": {
   "display_name": "Python 3",
   "language": "python",
   "name": "python3"
  },
  "language_info": {
   "codemirror_mode": {
    "name": "ipython",
    "version": 3
   },
   "file_extension": ".py",
   "mimetype": "text/x-python",
   "name": "python",
   "nbconvert_exporter": "python",
   "pygments_lexer": "ipython3",
   "version": "3.6.1"
  }
 },
 "nbformat": 4,
 "nbformat_minor": 1
}
