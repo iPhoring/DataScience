{
 "cells": [
  {
   "cell_type": "markdown",
   "metadata": {},
   "source": [
    "# Examining Racial Discrimination in the US Job Market\n",
    "\n",
    "### Background\n",
    "Racial discrimination continues to be pervasive in cultures throughout the world. Researchers examined the level of racial discrimination in the United States labor market by randomly assigning identical résumés to black-sounding or white-sounding names and observing the impact on requests for interviews from employers.\n",
    "\n",
    "### Data\n",
    "In the dataset provided, each row represents a resume. The 'race' column has two values, 'b' and 'w', indicating black-sounding and white-sounding. The column 'call' has two values, 1 and 0, indicating whether the resume received a call from employers or not.\n",
    "\n",
    "Note that the 'b' and 'w' values in race are assigned randomly to the resumes when presented to the employer."
   ]
  },
  {
   "cell_type": "markdown",
   "metadata": {},
   "source": [
    "### Exercises\n",
    "You will perform a statistical analysis to establish whether race has a significant impact on the rate of callbacks for resumes.\n",
    "\n",
    "Answer the following questions **in this notebook below and submit to your Github account**. \n",
    "\n",
    "   1. What test is appropriate for this problem? Does CLT apply?\n",
    "   2. What are the null and alternate hypotheses?\n",
    "   3. Compute margin of error, confidence interval, and p-value.\n",
    "   4. Write a story describing the statistical significance in the context or the original problem.\n",
    "   5. Does your analysis mean that race/name is the most important factor in callback success? Why or why not? If not, how would you amend your analysis?\n",
    "\n",
    "You can include written notes in notebook cells using Markdown: \n",
    "   - In the control panel at the top, choose Cell > Cell Type > Markdown\n",
    "   - Markdown syntax: http://nestacms.com/docs/creating-content/markdown-cheat-sheet\n",
    "\n",
    "\n",
    "#### Resources\n",
    "+ Experiment information and data source: http://www.povertyactionlab.org/evaluation/discrimination-job-market-united-states\n",
    "+ Scipy statistical methods: http://docs.scipy.org/doc/scipy/reference/stats.html \n",
    "+ Markdown syntax: http://nestacms.com/docs/creating-content/markdown-cheat-sheet\n",
    "****"
   ]
  },
  {
   "cell_type": "code",
   "execution_count": 2,
   "metadata": {
    "collapsed": true
   },
   "outputs": [],
   "source": [
    "import pandas as pd\n",
    "import numpy as np\n",
    "from scipy import stats\n",
    "\n",
    "import matplotlib.pyplot as plt\n",
    "import seaborn as sns"
   ]
  },
  {
   "cell_type": "code",
   "execution_count": 3,
   "metadata": {
    "collapsed": true
   },
   "outputs": [],
   "source": [
    "df = pd.io.stata.read_stata('data/us_job_market_discrimination.dta')"
   ]
  },
  {
   "cell_type": "code",
   "execution_count": 4,
   "metadata": {},
   "outputs": [
    {
     "name": "stdout",
     "output_type": "stream",
     "text": [
      "Index(['id', 'ad', 'education', 'ofjobs', 'yearsexp', 'honors', 'volunteer',\n",
      "       'military', 'empholes', 'occupspecific', 'occupbroad', 'workinschool',\n",
      "       'email', 'computerskills', 'specialskills', 'firstname', 'sex', 'race',\n",
      "       'h', 'l', 'call', 'city', 'kind', 'adid', 'fracblack', 'fracwhite',\n",
      "       'lmedhhinc', 'fracdropout', 'fraccolp', 'linc', 'col', 'expminreq',\n",
      "       'schoolreq', 'eoe', 'parent_sales', 'parent_emp', 'branch_sales',\n",
      "       'branch_emp', 'fed', 'fracblack_empzip', 'fracwhite_empzip',\n",
      "       'lmedhhinc_empzip', 'fracdropout_empzip', 'fraccolp_empzip',\n",
      "       'linc_empzip', 'manager', 'supervisor', 'secretary', 'offsupport',\n",
      "       'salesrep', 'retailsales', 'req', 'expreq', 'comreq', 'educreq',\n",
      "       'compreq', 'orgreq', 'manuf', 'transcom', 'bankreal', 'trade',\n",
      "       'busservice', 'othservice', 'missind', 'ownership'],\n",
      "      dtype='object')\n"
     ]
    },
    {
     "data": {
      "text/html": [
       "<div>\n",
       "<style>\n",
       "    .dataframe thead tr:only-child th {\n",
       "        text-align: right;\n",
       "    }\n",
       "\n",
       "    .dataframe thead th {\n",
       "        text-align: left;\n",
       "    }\n",
       "\n",
       "    .dataframe tbody tr th {\n",
       "        vertical-align: top;\n",
       "    }\n",
       "</style>\n",
       "<table border=\"1\" class=\"dataframe\">\n",
       "  <thead>\n",
       "    <tr style=\"text-align: right;\">\n",
       "      <th></th>\n",
       "      <th>id</th>\n",
       "      <th>ad</th>\n",
       "      <th>education</th>\n",
       "      <th>ofjobs</th>\n",
       "      <th>yearsexp</th>\n",
       "      <th>honors</th>\n",
       "      <th>volunteer</th>\n",
       "      <th>military</th>\n",
       "      <th>empholes</th>\n",
       "      <th>occupspecific</th>\n",
       "      <th>...</th>\n",
       "      <th>compreq</th>\n",
       "      <th>orgreq</th>\n",
       "      <th>manuf</th>\n",
       "      <th>transcom</th>\n",
       "      <th>bankreal</th>\n",
       "      <th>trade</th>\n",
       "      <th>busservice</th>\n",
       "      <th>othservice</th>\n",
       "      <th>missind</th>\n",
       "      <th>ownership</th>\n",
       "    </tr>\n",
       "  </thead>\n",
       "  <tbody>\n",
       "    <tr>\n",
       "      <th>4219</th>\n",
       "      <td>b</td>\n",
       "      <td>7</td>\n",
       "      <td>3</td>\n",
       "      <td>2</td>\n",
       "      <td>4</td>\n",
       "      <td>0</td>\n",
       "      <td>0</td>\n",
       "      <td>0</td>\n",
       "      <td>1</td>\n",
       "      <td>21</td>\n",
       "      <td>...</td>\n",
       "      <td>0.0</td>\n",
       "      <td>1.0</td>\n",
       "      <td>1.0</td>\n",
       "      <td>0.0</td>\n",
       "      <td>0.0</td>\n",
       "      <td>0.0</td>\n",
       "      <td>0.0</td>\n",
       "      <td>0.0</td>\n",
       "      <td>0.0</td>\n",
       "      <td>Private</td>\n",
       "    </tr>\n",
       "    <tr>\n",
       "      <th>2305</th>\n",
       "      <td>b</td>\n",
       "      <td>233</td>\n",
       "      <td>4</td>\n",
       "      <td>4</td>\n",
       "      <td>13</td>\n",
       "      <td>0</td>\n",
       "      <td>1</td>\n",
       "      <td>0</td>\n",
       "      <td>1</td>\n",
       "      <td>313</td>\n",
       "      <td>...</td>\n",
       "      <td>1.0</td>\n",
       "      <td>0.0</td>\n",
       "      <td>0.0</td>\n",
       "      <td>0.0</td>\n",
       "      <td>0.0</td>\n",
       "      <td>0.0</td>\n",
       "      <td>0.0</td>\n",
       "      <td>1.0</td>\n",
       "      <td>0.0</td>\n",
       "      <td></td>\n",
       "    </tr>\n",
       "    <tr>\n",
       "      <th>4789</th>\n",
       "      <td>b</td>\n",
       "      <td>9</td>\n",
       "      <td>4</td>\n",
       "      <td>2</td>\n",
       "      <td>14</td>\n",
       "      <td>0</td>\n",
       "      <td>0</td>\n",
       "      <td>0</td>\n",
       "      <td>1</td>\n",
       "      <td>214</td>\n",
       "      <td>...</td>\n",
       "      <td>0.0</td>\n",
       "      <td>0.0</td>\n",
       "      <td>0.0</td>\n",
       "      <td>0.0</td>\n",
       "      <td>0.0</td>\n",
       "      <td>1.0</td>\n",
       "      <td>0.0</td>\n",
       "      <td>0.0</td>\n",
       "      <td>0.0</td>\n",
       "      <td></td>\n",
       "    </tr>\n",
       "    <tr>\n",
       "      <th>1120</th>\n",
       "      <td>b</td>\n",
       "      <td>15</td>\n",
       "      <td>4</td>\n",
       "      <td>2</td>\n",
       "      <td>6</td>\n",
       "      <td>0</td>\n",
       "      <td>0</td>\n",
       "      <td>0</td>\n",
       "      <td>0</td>\n",
       "      <td>389</td>\n",
       "      <td>...</td>\n",
       "      <td>1.0</td>\n",
       "      <td>0.0</td>\n",
       "      <td>1.0</td>\n",
       "      <td>0.0</td>\n",
       "      <td>0.0</td>\n",
       "      <td>0.0</td>\n",
       "      <td>0.0</td>\n",
       "      <td>0.0</td>\n",
       "      <td>0.0</td>\n",
       "      <td></td>\n",
       "    </tr>\n",
       "    <tr>\n",
       "      <th>3742</th>\n",
       "      <td>b</td>\n",
       "      <td>5</td>\n",
       "      <td>3</td>\n",
       "      <td>3</td>\n",
       "      <td>5</td>\n",
       "      <td>0</td>\n",
       "      <td>1</td>\n",
       "      <td>1</td>\n",
       "      <td>0</td>\n",
       "      <td>316</td>\n",
       "      <td>...</td>\n",
       "      <td>0.0</td>\n",
       "      <td>0.0</td>\n",
       "      <td>0.0</td>\n",
       "      <td>0.0</td>\n",
       "      <td>0.0</td>\n",
       "      <td>0.0</td>\n",
       "      <td>0.0</td>\n",
       "      <td>1.0</td>\n",
       "      <td>0.0</td>\n",
       "      <td>Nonprofit</td>\n",
       "    </tr>\n",
       "  </tbody>\n",
       "</table>\n",
       "<p>5 rows × 65 columns</p>\n",
       "</div>"
      ],
      "text/plain": [
       "     id   ad  education  ofjobs  yearsexp  honors  volunteer  military  \\\n",
       "4219  b    7          3       2         4       0          0         0   \n",
       "2305  b  233          4       4        13       0          1         0   \n",
       "4789  b    9          4       2        14       0          0         0   \n",
       "1120  b   15          4       2         6       0          0         0   \n",
       "3742  b    5          3       3         5       0          1         1   \n",
       "\n",
       "      empholes  occupspecific    ...      compreq  orgreq  manuf  transcom  \\\n",
       "4219         1             21    ...          0.0     1.0    1.0       0.0   \n",
       "2305         1            313    ...          1.0     0.0    0.0       0.0   \n",
       "4789         1            214    ...          0.0     0.0    0.0       0.0   \n",
       "1120         0            389    ...          1.0     0.0    1.0       0.0   \n",
       "3742         0            316    ...          0.0     0.0    0.0       0.0   \n",
       "\n",
       "      bankreal trade busservice othservice  missind  ownership  \n",
       "4219       0.0   0.0        0.0        0.0      0.0    Private  \n",
       "2305       0.0   0.0        0.0        1.0      0.0             \n",
       "4789       0.0   1.0        0.0        0.0      0.0             \n",
       "1120       0.0   0.0        0.0        0.0      0.0             \n",
       "3742       0.0   0.0        0.0        1.0      0.0  Nonprofit  \n",
       "\n",
       "[5 rows x 65 columns]"
      ]
     },
     "execution_count": 4,
     "metadata": {},
     "output_type": "execute_result"
    }
   ],
   "source": [
    "print(df.columns)\n",
    "df.sample(5)"
   ]
  },
  {
   "cell_type": "code",
   "execution_count": 5,
   "metadata": {},
   "outputs": [
    {
     "data": {
      "text/html": [
       "<div>\n",
       "<style>\n",
       "    .dataframe thead tr:only-child th {\n",
       "        text-align: right;\n",
       "    }\n",
       "\n",
       "    .dataframe thead th {\n",
       "        text-align: left;\n",
       "    }\n",
       "\n",
       "    .dataframe tbody tr th {\n",
       "        vertical-align: top;\n",
       "    }\n",
       "</style>\n",
       "<table border=\"1\" class=\"dataframe\">\n",
       "  <thead>\n",
       "    <tr style=\"text-align: right;\">\n",
       "      <th></th>\n",
       "      <th>race</th>\n",
       "      <th>call</th>\n",
       "    </tr>\n",
       "  </thead>\n",
       "  <tbody>\n",
       "    <tr>\n",
       "      <th>746</th>\n",
       "      <td>w</td>\n",
       "      <td>0.0</td>\n",
       "    </tr>\n",
       "    <tr>\n",
       "      <th>1602</th>\n",
       "      <td>w</td>\n",
       "      <td>0.0</td>\n",
       "    </tr>\n",
       "    <tr>\n",
       "      <th>2458</th>\n",
       "      <td>w</td>\n",
       "      <td>0.0</td>\n",
       "    </tr>\n",
       "    <tr>\n",
       "      <th>1232</th>\n",
       "      <td>w</td>\n",
       "      <td>0.0</td>\n",
       "    </tr>\n",
       "    <tr>\n",
       "      <th>3320</th>\n",
       "      <td>b</td>\n",
       "      <td>0.0</td>\n",
       "    </tr>\n",
       "    <tr>\n",
       "      <th>1342</th>\n",
       "      <td>w</td>\n",
       "      <td>0.0</td>\n",
       "    </tr>\n",
       "    <tr>\n",
       "      <th>2819</th>\n",
       "      <td>b</td>\n",
       "      <td>0.0</td>\n",
       "    </tr>\n",
       "    <tr>\n",
       "      <th>598</th>\n",
       "      <td>b</td>\n",
       "      <td>0.0</td>\n",
       "    </tr>\n",
       "    <tr>\n",
       "      <th>3716</th>\n",
       "      <td>b</td>\n",
       "      <td>0.0</td>\n",
       "    </tr>\n",
       "  </tbody>\n",
       "</table>\n",
       "</div>"
      ],
      "text/plain": [
       "     race  call\n",
       "746     w   0.0\n",
       "1602    w   0.0\n",
       "2458    w   0.0\n",
       "1232    w   0.0\n",
       "3320    b   0.0\n",
       "1342    w   0.0\n",
       "2819    b   0.0\n",
       "598     b   0.0\n",
       "3716    b   0.0"
      ]
     },
     "execution_count": 5,
     "metadata": {},
     "output_type": "execute_result"
    }
   ],
   "source": [
    "df.loc[:, ['race','call']].sample(9)"
   ]
  },
  {
   "cell_type": "markdown",
   "metadata": {},
   "source": [
    "## Checking basic stats of black sounding names"
   ]
  },
  {
   "cell_type": "code",
   "execution_count": 72,
   "metadata": {},
   "outputs": [],
   "source": [
    "q=df[(df.race=='b') & (df.call==0)].call.count()"
   ]
  },
  {
   "cell_type": "code",
   "execution_count": 73,
   "metadata": {},
   "outputs": [],
   "source": [
    "p=df[(df.race=='b') & (df.call==1)].call.count()"
   ]
  },
  {
   "cell_type": "code",
   "execution_count": 74,
   "metadata": {},
   "outputs": [],
   "source": [
    "t_b=df[df.race=='b'].call.count()"
   ]
  },
  {
   "cell_type": "code",
   "execution_count": 67,
   "metadata": {},
   "outputs": [
    {
     "data": {
      "text/plain": [
       "0.9355236139630391"
      ]
     },
     "execution_count": 67,
     "metadata": {},
     "output_type": "execute_result"
    }
   ],
   "source": [
    "2278/2435"
   ]
  },
  {
   "cell_type": "code",
   "execution_count": 68,
   "metadata": {},
   "outputs": [
    {
     "data": {
      "text/plain": [
       "0.06447638603696099"
      ]
     },
     "execution_count": 68,
     "metadata": {},
     "output_type": "execute_result"
    }
   ],
   "source": [
    "157/2435"
   ]
  },
  {
   "cell_type": "code",
   "execution_count": 71,
   "metadata": {},
   "outputs": [
    {
     "data": {
      "text/plain": [
       "0.24559963697158382"
      ]
     },
     "execution_count": 71,
     "metadata": {},
     "output_type": "execute_result"
    }
   ],
   "source": [
    "np.sqrt(0.06447638603696099*0.9355236139630391)"
   ]
  },
  {
   "cell_type": "code",
   "execution_count": 54,
   "metadata": {},
   "outputs": [
    {
     "data": {
      "text/plain": [
       "0.064476386036960986"
      ]
     },
     "execution_count": 54,
     "metadata": {},
     "output_type": "execute_result"
    }
   ],
   "source": [
    "callbacks_b/total_pop_b"
   ]
  },
  {
   "cell_type": "code",
   "execution_count": 50,
   "metadata": {},
   "outputs": [
    {
     "name": "stdout",
     "output_type": "stream",
     "text": [
      "Number of callbacks for black-sounding names: 157.0\n",
      "Number of callbacks for black-sounding names: 235.0\n"
     ]
    }
   ],
   "source": [
    "# number of callbacks for black-sounding names\n",
    "callbacks_b=sum(df[df.race=='b'].call)\n",
    "\n",
    "# number of callbacks for white-sounding names\n",
    "callbacks_w=sum(df[df.race=='w'].call)\n",
    "\n",
    "print('Number of callbacks for black-sounding names:',callbacks_b)\n",
    "print('Number of callbacks for black-sounding names:',callbacks_w)"
   ]
  },
  {
   "cell_type": "code",
   "execution_count": 7,
   "metadata": {},
   "outputs": [
    {
     "name": "stdout",
     "output_type": "stream",
     "text": [
      "Percentage of Black Sounding Candidates that where callback: 6.45 %\n"
     ]
    }
   ],
   "source": [
    "#% of black-sounding names\n",
    "total_pop_b=df[df.race=='b'].race.size\n",
    "print('Percentage of Black Sounding Candidates that where callback:', round(callbacks_b/total_pop_b *100,2),'%')"
   ]
  },
  {
   "cell_type": "code",
   "execution_count": 8,
   "metadata": {},
   "outputs": [
    {
     "name": "stdout",
     "output_type": "stream",
     "text": [
      "Percentage of White Sounding Candidates that where callback: 9.65 %\n"
     ]
    }
   ],
   "source": [
    "#% of white-sounding names\n",
    "total_pop_w=df[df.race=='w'].race.size\n",
    "print('Percentage of White Sounding Candidates that where callback:', round(callbacks_w/total_pop_w *100,2),'%')"
   ]
  },
  {
   "cell_type": "markdown",
   "metadata": {},
   "source": [
    "# Q1 What test is appropriate for this problem? Does CLT apply?\n",
    "We will use two sample t test to test to establish whether race has a significant impact on the rate of callbacks for resumes. \n",
    "\n",
    "# Q2 What are the null and alternate hypotheses?\n",
    "$H_o$: There is no significant impact on the rate of callbacks **rates** between black and white sounding names (identical average scores) \n",
    "\n",
    "$H_1$: There is a significant impact on the rate of callbacks **rates** between black and white sounding names."
   ]
  },
  {
   "cell_type": "markdown",
   "metadata": {},
   "source": [
    "# Q3 Compute margin of error, confidence interval, and p-value.\n",
    "\n",
    "Calculating Variance and stdDev of callback percentage of back and white sounding names\n",
    "\n",
    "Formula for estimating the standard deviation of a sample proportion:\n",
    "\n",
    "Sample Proportion: Callbacks/Total Population \n",
    "\n",
    "\\begin{equation}\n",
    "\\ Standard\\,Deviation\\,of\\,a\\, Sample\\, proportion = \\sqrt{\\frac{(Sample\\, Proportion) \\ * \\ (1- Sample\\, Proportion)}{(Sample\\, Size)}}\\\\ \n",
    "\\end{equation}\n",
    "\n",
    "ref: http://sites.stat.psu.edu/~drh20/100/spring2005/lecture/lecture28.pdf\n",
    "\n",
    "ref: http://janda.org/c10/Lectures/topic07/stdevproportions.htm"
   ]
  },
  {
   "cell_type": "code",
   "execution_count": 77,
   "metadata": {},
   "outputs": [
    {
     "name": "stdout",
     "output_type": "stream",
     "text": [
      "Mean of black sounding names: 0.064476386037\n",
      "Mean of white sounding names: 0.0965092402464\n",
      "Variance of Sample Proportion for Black Sounding Names: 2.47717378565e-05\n",
      "Standard Deviation of Sample Proportion for Black Sounding Names: 0.00497712144281\n",
      "Variance of Sample Proportion for White Sounding Names: 3.5809119833e-05\n",
      "Standard Deviation of Sample Proportion for White Sounding Names: 0.00598407217813\n"
     ]
    }
   ],
   "source": [
    "mean_b=(callbacks_b/total_pop_b)\n",
    "mean_w=(callbacks_w/total_pop_w)\n",
    "\n",
    "var_b=(callbacks_b/total_pop_b) * (1- (callbacks_b/total_pop_b))/total_pop_b\n",
    "var_w=(callbacks_w/total_pop_w) * (1- (callbacks_w/total_pop_w))/total_pop_w\n",
    "stdDev_b=np.sqrt(var_b)\n",
    "stdDev_w=np.sqrt(var_w)\n",
    "\n",
    "print('Mean of black sounding names:',mean_b)\n",
    "print('Mean of white sounding names:',mean_w)\n",
    "print('Variance of Sample Proportion for Black Sounding Names:',var_b)\n",
    "print('Standard Deviation of Sample Proportion for Black Sounding Names:',stdDev_b)\n",
    "print('Variance of Sample Proportion for White Sounding Names:',var_w)\n",
    "print('Standard Deviation of Sample Proportion for White Sounding Names:',stdDev_w)"
   ]
  },
  {
   "cell_type": "code",
   "execution_count": 80,
   "metadata": {},
   "outputs": [
    {
     "name": "stdout",
     "output_type": "stream",
     "text": [
      "0.064476386037 0.00497712144281 [ 0.04        0.04001746  0.04003491 ...,  0.12496509  0.12498254  0.125     ]\n"
     ]
    },
    {
     "data": {
      "image/png": "[encoded data removed]",
      "text/plain": [
       "<matplotlib.figure.Figure at 0x7f18492f1240>"
      ]
     },
     "metadata": {},
     "output_type": "display_data"
    }
   ],
   "source": [
    "x = np.linspace(0.04,0.125,df.call.size)\n",
    "#x=np.linspace(df.call.mean()-1,df.call.mean()+1,df.call.size)\n",
    "#x = np.linspace((df.min()-1),(df.max()+1), len(df)) \n",
    "\n",
    "print((callbacks_b/total_pop_b),stdDev_b,x)\n",
    "\n",
    "y_b = stats.norm.pdf(x, loc=(callbacks_b/total_pop_b), scale=stdDev_b)    \n",
    "#y_w = stats.norm.pdf(x, loc=(callbacks_w/total_pop_w), scale=stdDev_w)    \n",
    "_=plt.plot(x,y_b,marker='v',linestyle=':',markersize=3,color='black',label='Black Sounding Names')\n",
    "#_=plt.plot(x,y_w,marker='v',linestyle=':',markersize=3,color='white',label='White Sounding Names')\n",
    "\n",
    "_=plt.xlabel('Percentage Callbacks')\n",
    "_=plt.ylabel('PDF')\n",
    "#_=plt.vlines((1-(callbacks_b/total_pop_b)),0, 1, color='red',label=[format(percentage_b, '.2f'), \\\n",
    "#                                                                   'Callbacks -Black Sounding Names'])\n",
    "_=plt.legend(loc='upper right')\n",
    "plt.margins(0.02)\n",
    "plt.show()\n",
    "#marker, markersize, markeredgewidth, markeredgecolor, markerfacecolor, markerfacecoloralt\n"
   ]
  },
  {
   "cell_type": "code",
   "execution_count": 11,
   "metadata": {},
   "outputs": [
    {
     "data": {
      "image/png": "[encoded data removed]",
      "text/plain": [
       "<matplotlib.figure.Figure at 0x7fe551dcb438>"
      ]
     },
     "metadata": {},
     "output_type": "display_data"
    }
   ],
   "source": [
    "#Empirical Cumulative Distribution Function (ECDF)\n",
    "x=sorted(df[df.race=='b'].call)\n",
    "y=np.arange(1,len(x)+1)/len(x)\n",
    "_=plt.plot(x,y,marker='.',linestyle='none')\n",
    "_=plt.xlabel('callback percentage of back sounding names')\n",
    "_=plt.ylabel('Empirical Cumulative Distribution Function (ECDF)')\n",
    "_=plt.hlines((1-(callbacks_b/total_pop_b)),0, 1, color='red',label=[format(callbacks_b/total_pop_b, '.2f'), \\\n",
    "                                                                    'Callbacks -Black Sounding Names'])\n",
    "_=plt.legend(loc='lower right')\n",
    "plt.margins(0.02)\n",
    "\n",
    "\n",
    "#Empirical Cumulative Distribution Function (ECDF)\n",
    "x=sorted(df[df.race=='w'].call)\n",
    "y=np.arange(1,len(x)+1)/len(x)\n",
    "_=plt.plot(x,y,marker='.',linestyle='none')\n",
    "_=plt.xlabel('callback percentage of white sounding names')\n",
    "_=plt.ylabel('Empirical Cumulative Distribution Function (ECDF)')\n",
    "_=plt.hlines((1-(callbacks_w/total_pop_w)),0, 1, color='blue',label=[format(callbacks_w/total_pop_w, '.2f'), \\\n",
    "                                                                     'Callbacks -White Sounding Names'])\n",
    "_=plt.legend(loc='lower right')\n",
    "plt.margins(0.02)\n",
    "\n",
    "plt.show()"
   ]
  },
  {
   "cell_type": "markdown",
   "metadata": {},
   "source": [
    "We can see that ECDF is not that helpful. Let us plan to calculate Margin of Error and Confidence Interval and Pvalue"
   ]
  },
  {
   "cell_type": "markdown",
   "metadata": {},
   "source": [
    "Quick Note: Since we took two independent samples from the same population( White and Black) we can use the below test. The test measures whether the average (expected) value differs significantly across samples. If we observe a large p-value, for example larger than 0.05 or 0.1, then we cannot reject the null hypothesis of identical average scores. If the p-value is smaller than the threshold, e.g.5%, then we reject the null hypothesis of equal averages."
   ]
  },
  {
   "cell_type": "code",
   "execution_count": 12,
   "metadata": {},
   "outputs": [
    {
     "name": "stdout",
     "output_type": "stream",
     "text": [
      "Pvalue: 3.94294151365e-05\n"
     ]
    }
   ],
   "source": [
    "print('Pvalue:',stats.ttest_ind(df[df.race=='b'].call,df[df.race=='w'].call, equal_var = False)[1])"
   ]
  },
  {
   "cell_type": "markdown",
   "metadata": {},
   "source": [
    "### Observation: Based on the above pValue we can reject the null Hypothesis. "
   ]
  },
  {
   "cell_type": "markdown",
   "metadata": {},
   "source": [
    "z score for 95% CL is 1.96 \n",
    "\n",
    "we took this from z-score table \n",
    "90% – Z Score = 1.645 \n",
    "\n",
    "95% – Z Score = 1.96 \n",
    "\n",
    "99% – Z Score = 2.576\n",
    "\n",
    "margin_of_error =zScore * stdDev\n"
   ]
  },
  {
   "cell_type": "code",
   "execution_count": 13,
   "metadata": {
    "collapsed": true
   },
   "outputs": [],
   "source": [
    "margin_of_error_b =1.96 * stdDev_b"
   ]
  },
  {
   "cell_type": "code",
   "execution_count": 14,
   "metadata": {
    "collapsed": true
   },
   "outputs": [],
   "source": [
    "import scipy.stats as stats\n",
    "CI_low_b,CI_hi_b=stats.t.interval(0.95, len(df[df.race=='b'].call)-1,\n",
    "                              loc=np.mean(df[df.race=='b'].call),\n",
    "                              scale=stats.sem(df[df.race=='b'].call))"
   ]
  },
  {
   "cell_type": "code",
   "execution_count": 15,
   "metadata": {},
   "outputs": [
    {
     "name": "stdout",
     "output_type": "stream",
     "text": [
      "Confidence Interval of Back sounding names ranges from: 0.0547145496045  and  0.0742382218208\n"
     ]
    }
   ],
   "source": [
    "print('Confidence Interval of Back sounding names ranges from:', CI_low_b,' and ',CI_hi_b)"
   ]
  },
  {
   "cell_type": "markdown",
   "metadata": {},
   "source": [
    "# Q4 Write a story describing the statistical significance in the context or the original problem."
   ]
  },
  {
   "cell_type": "markdown",
   "metadata": {},
   "source": [
    "We have 95% confidence that the percentage of callbacks in black and white sounding names ranges from 0.054 to 0.074. Based on the given sample it appears that race does play a role in callbacks."
   ]
  },
  {
   "cell_type": "markdown",
   "metadata": {},
   "source": [
    "# Q5. Does your analysis mean that race/name is the most important factor in callback success? Why or why not? If not, how would you amend your analysis?"
   ]
  },
  {
   "cell_type": "markdown",
   "metadata": {},
   "source": [
    "The given sample data can't prove that race is the only determining criteria for callbacks. Callbacks can have other cofounding data points which are not analyzed or presented. We need to collect different samples and include factors like the commute, other demographics, success among other important decision making features."
   ]
  },
  {
   "cell_type": "code",
   "execution_count": 32,
   "metadata": {},
   "outputs": [],
   "source": []
  },
  {
   "cell_type": "code",
   "execution_count": null,
   "metadata": {
    "collapsed": true
   },
   "outputs": [],
   "source": []
  },
  {
   "cell_type": "code",
   "execution_count": null,
   "metadata": {
    "collapsed": true
   },
   "outputs": [],
   "source": []
  },
  {
   "cell_type": "code",
   "execution_count": null,
   "metadata": {
    "collapsed": true
   },
   "outputs": [],
   "source": []
  },
  {
   "cell_type": "code",
   "execution_count": null,
   "metadata": {
    "collapsed": true
   },
   "outputs": [],
   "source": []
  },
  {
   "cell_type": "code",
   "execution_count": null,
   "metadata": {
    "collapsed": true
   },
   "outputs": [],
   "source": []
  }
 ],
 "metadata": {
  "kernelspec": {
   "display_name": "Python 3",
   "language": "python",
   "name": "python3"
  },
  "language_info": {
   "codemirror_mode": {
    "name": "ipython",
    "version": 3
   },
   "file_extension": ".py",
   "mimetype": "text/x-python",
   "name": "python",
   "nbconvert_exporter": "python",
   "pygments_lexer": "ipython3",
   "version": "3.6.1"
  }
 },
 "nbformat": 4,
 "nbformat_minor": 1
}
